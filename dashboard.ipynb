{
 "cells": [
  {
   "cell_type": "markdown",
   "metadata": {},
   "source": [
    "# San Francisco Rental Prices Dashboard\n",
    "\n",
    "In this notebook, you will compile the visualizations from the previous analysis into functions that can be used for a Panel dashboard."
   ]
  },
  {
   "cell_type": "code",
   "execution_count": 30,
   "metadata": {},
   "outputs": [],
   "source": [
    "# imports\n",
    "import panel as pn\n",
    "pn.extension('plotly')\n",
    "import plotly.express as px\n",
    "import pandas as pd\n",
    "import hvplot.pandas\n",
    "import matplotlib.pyplot as plt\n",
    "import os\n",
    "from pathlib import Path\n",
    "from dotenv import load_dotenv\n",
    "from panel.interact import interact\n",
    "import numpy as np"
   ]
  },
  {
   "cell_type": "code",
   "execution_count": 31,
   "metadata": {},
   "outputs": [],
   "source": [
    "# Read the Mapbox API key\n",
    "load_dotenv()\n",
    "map_box_api = os.getenv(\"mapbox\")\n",
    "px.set_mapbox_access_token(map_box_api)"
   ]
  },
  {
   "cell_type": "markdown",
   "metadata": {},
   "source": [
    "# Import Data"
   ]
  },
  {
   "cell_type": "code",
   "execution_count": 32,
   "metadata": {},
   "outputs": [],
   "source": [
    "# Import the necessary CSVs to Pandas DataFrames\n",
    "file_path = Path(\"Data/sfo_neighborhoods_census_data.csv\")\n",
    "sf_data = pd.read_csv(file_path, index_col=\"year\")\n",
    "\n",
    "file_path = Path(\"Data/neighborhoods_coordinates.csv\")\n",
    "df_neighborhood_locations = pd.read_csv(file_path)"
   ]
  },
  {
   "cell_type": "markdown",
   "metadata": {},
   "source": [
    "- - -"
   ]
  },
  {
   "cell_type": "markdown",
   "metadata": {},
   "source": [
    "## Panel Visualizations\n",
    "\n",
    "In this section, you will copy the code for each plot type from your analysis notebook and place it into separate functions that Panel can use to create panes for the dashboard. \n",
    "\n",
    "These functions will convert the plot object to a Panel pane.\n",
    "\n",
    "Be sure to include any DataFrame transformation/manipulation code required along with the plotting code.\n",
    "\n",
    "Return a Panel pane object from each function that can be used to build the dashboard.\n",
    "\n",
    "Note: Remove any `.show()` lines from the code. We want to return the plots instead of showing them. The Panel dashboard will then display the plots."
   ]
  },
  {
   "cell_type": "code",
   "execution_count": 33,
   "metadata": {},
   "outputs": [],
   "source": [
    "# Define Panel Visualization Functions\n",
    "def housing_units_per_year():\n",
    "    \"\"\"Housing Units Per Year.\"\"\"\n",
    "    \n",
    "     \n",
    "    housing_units = sf_data[\"housing_units\"].groupby([sf_data.index]).mean()\n",
    "\n",
    "    fig_housing_units=plt.figure()\n",
    "    plot_housing=housing_units.plot.bar()\n",
    "    plot_housing.set_xlabel(\"Year\")\n",
    "    plot_housing.set_ylabel(\"housing_units\")\n",
    "    plot_housing.set_title(\"Housing Units In SF\")\n",
    "\n",
    "    housing_units_std = housing_units.std()\n",
    "    housing_units_min = np.min(housing_units)\n",
    "    housing_units_max = np.max(housing_units)\n",
    "\n",
    "    plot_housing.set_ylim(\n",
    "        housing_units_min - housing_units_std, housing_units_max + housing_units_std\n",
    "    )\n",
    "\n",
    "    plt.close(fig_housing_units)\n",
    "    \n",
    "    return pn.pane.Matplotlib(fig_housing_units)\n"
   ]
  },
  {
   "cell_type": "code",
   "execution_count": 34,
   "metadata": {},
   "outputs": [],
   "source": [
    "def average_gross_rent():\n",
    "    \"\"\"Average Gross Rent in San Francisco Per Year.\"\"\"\n",
    "    \n",
    "    average_rent_sqr_foot = sf_data[\"gross_rent\"].groupby([sf_data.index]).mean()\n",
    "    \n",
    "    gross_rent_fig = plt.figure()\n",
    "  \n",
    "    bar_chart = average_rent_sqr_foot.plot()\n",
    "    bar_chart.set_xlabel(\"Year\", fontsize=12)\n",
    "    bar_chart.set_ylabel(\"Gross Rent\", fontsize=12)\n",
    "    bar_chart.set_title(\n",
    "        \"Gross Rent\", fontsize=14, fontweight=\"bold\"\n",
    "    )\n",
    "\n",
    "\n",
    "    plt.close(gross_rent_fig)\n",
    "    \n",
    "    return pn.pane.Matplotlib(gross_rent_fig)"
   ]
  },
  {
   "cell_type": "code",
   "execution_count": 35,
   "metadata": {},
   "outputs": [],
   "source": [
    "def average_sales_price():\n",
    "    \"\"\"Average Sales Price Per Year.\"\"\"\n",
    "    \n",
    "    average_price_sqr_foot = sf_data[\"sale_price_sqr_foot\"].groupby([sf_data.index]).mean()\n",
    "    sales_price_fig = plt.figure()\n",
    "    bar_chart = average_price_sqr_foot.plot()\n",
    "    bar_chart.set_xlabel(\"Year\", fontsize=12)\n",
    "    bar_chart.set_ylabel(\"Price Per Square Foot\", fontsize=12)\n",
    "    bar_chart.set_title(\n",
    "        \"Average Sale Price per Square Foot in San Francisco\", fontsize=14, fontweight=\"bold\"\n",
    "    )\n",
    "    plt.close(sales_price_fig)\n",
    "    return pn.pane.Matplotlib(sales_price_fig)\n"
   ]
  },
  {
   "cell_type": "code",
   "execution_count": 36,
   "metadata": {},
   "outputs": [],
   "source": [
    "def average_price_by_neighborhood(neighborhood):\n",
    "    \"\"\"Average Prices by Neighborhood.\"\"\"\n",
    "    \n",
    "    sf_sales_df = data.groupby([data.index, \"neighborhood\"]).mean()\n",
    "    sf_sales_df.reset_index(inplace=True)\n",
    "    \n",
    "    sales_plot=sf_sales_df.hvplot.line(\n",
    "        \"year\",\n",
    "        \"sale_price_sqr_foot\",\n",
    "        xlabel=\"Year\",\n",
    "        ylabel=\"Average price per square foot\",\n",
    "        groupby=\"neighborhood\",\n",
    "        \n",
    "    )\n",
    "  \n",
    "    return sales_plot\n",
    "    \n",
    "    "
   ]
  },
  {
   "cell_type": "code",
   "execution_count": 37,
   "metadata": {},
   "outputs": [],
   "source": [
    "def top_most_expensive_neighborhoods():\n",
    "    \"\"\"Top 10 Most Expensive Neighborhoods.\"\"\"\n",
    "\n",
    "    top_10_most_expensive = data.groupby(\"neighborhood\").mean()\n",
    "    top_10_most_expensive =top_10_most_expensive.sort_values(by='sale_price_sqr_foot', ascending=False).head(10)\n",
    "    top_10_most_expensive.reset_index(inplace=True)\n",
    "    top_10_expensive_plot=top_10_most_expensive.hvplot.bar(\n",
    "        x=\"neighborhood\", \n",
    "        y=\"sale_price_sqr_foot\", \n",
    "        title=\"Top 10 Most Expensive Neighborhoods in San Francisco\", \n",
    "        height=400,\n",
    "        rot=46)\n",
    "\n",
    "    return top10_expensive_plot\n"
   ]
  },
  {
   "cell_type": "code",
   "execution_count": 38,
   "metadata": {},
   "outputs": [],
   "source": [
    "def most_expensive_neighborhoods_rent_sales():\n",
    "    \"\"\"Comparison of Rent and Sales Prices of Most Expensive Neighborhoods.\"\"\" \n",
    "    \n",
    "    rent_sales_plot=sf_sales_df.hvplot.bar(\n",
    "        x=\"year\", \n",
    "        y=[\"sale_price_sqr_foot\", \"gross_rent\"],\n",
    "        title=\"Neighborhoods by Gross Rent and Average Price Per Square Foot\",\n",
    "        groupby=\"neighborhood\",\n",
    "        height=400,\n",
    "        rot=46)   \n",
    "    \n",
    "    return rent_sales_plot"
   ]
  },
  {
   "cell_type": "code",
   "execution_count": 39,
   "metadata": {},
   "outputs": [],
   "source": [
    "def parallel_coordinates():\n",
    "    \"\"\"Parallel Coordinates Plot.\"\"\"\n",
    "\n",
    "    avg_price_per_neighborhood = sf_data.groupby([sf_data[\"neighborhood\"]]).mean()    \n",
    "    top_10_most_expensive = avg_price_per_neighborhood.nlargest(10, 'sale_price_sqr_foot').reset_index()\n",
    "    top_10_parallel = px.parallel_coordinates(\n",
    "    top_10_most_expensive, \n",
    "    color='sale_price_sqr_foot')\n",
    "\n",
    "    return top_10_parallel\n"
   ]
  },
  {
   "cell_type": "code",
   "execution_count": 40,
   "metadata": {},
   "outputs": [],
   "source": [
    "def parallel_categories():\n",
    "    \"\"\"Parallel Categories Plot.\"\"\"\n",
    "    \n",
    "    avg_price_per_neighborhood = sf_data.groupby([sf_data[\"neighborhood\"]]).mean()  \n",
    "    top_10_ex_neighborhood = avg_price_per_neighborhood.nlargest(10, 'sale_price_sqr_foot').reset_index()\n",
    "    top_10_parallel_categories = px.parallel_categories(\n",
    "    top_10_ex_neighborhood,\n",
    "    dimensions=[\"neighborhood\", \"sale_price_sqr_foot\", \"housing_units\", \"gross_rent\"],\n",
    "    color=\"sale_price_sqr_foot\",\n",
    "    color_continuous_scale=px.colors.sequential.Inferno,\n",
    ")\n",
    "\n",
    "    return top_10_parallel_categories\n"
   ]
  },
  {
   "cell_type": "code",
   "execution_count": 41,
   "metadata": {},
   "outputs": [],
   "source": [
    "def neighborhood_map():\n",
    "    \"\"\"Neighborhood Map.\"\"\"\n",
    "    file_path = Path(\"Data/neighborhoods_coordinates.csv\")\n",
    "    df_neighborhood_location = pd.read_csv(file_path)\n",
    "    avg_price_per_neighborhood = sf_data.groupby([sf_data[\"neighborhood\"]]).mean()  \n",
    "    avg_price_per_neighborhood = avg_price_per_neighborhood.reset_index()\n",
    "    avg_price_location = pd.concat([avg_price_per_neighborhood, df_neighborhood_location], axis=\"columns\", join=\"inner\")\n",
    "\n",
    "    location_map = px.scatter_mapbox(\n",
    "    avg_price_location,\n",
    "    lat=\"Lat\",\n",
    "    lon=\"Lon\",\n",
    "    size=\"sale_price_sqr_foot\",\n",
    "    color=\"gross_rent\",\n",
    "    color_continuous_scale=px.colors.cyclical.IceFire,\n",
    "    #title=\"Average Sale Price per Square Foot and Gross Rent in San Francisco\",\n",
    "    zoom=11,\n",
    "    width=800,\n",
    ")\n",
    "    \n",
    "\n",
    "    return location_map\n",
    "  "
   ]
  },
  {
   "cell_type": "code",
   "execution_count": 48,
   "metadata": {},
   "outputs": [],
   "source": [
    "def sunburst():\n",
    "    \"\"\"Sunburst Plot.\"\"\"\n",
    "  \n",
    "    return px.sunburst(merged_data, \n",
    "        path=[\"neighbourhood\" ,\"sale_price_sqr_foot\"], \n",
    "        values='sale_price_sqr_foot',\n",
    "        color='sale_price_sqr_foot'\n",
    ")\n",
    "   "
   ]
  },
  {
   "cell_type": "markdown",
   "metadata": {},
   "source": [
    "## Panel Dashboard\n",
    "\n",
    "In this section, you will combine all of the plots into a single dashboard view using Panel. Be creative with your dashboard design!"
   ]
  },
  {
   "cell_type": "code",
   "execution_count": 54,
   "metadata": {},
   "outputs": [
    {
     "ename": "SyntaxError",
     "evalue": "invalid syntax (4248637691.py, line 15)",
     "output_type": "error",
     "traceback": [
      "\u001b[0;36m  File \u001b[0;32m\"/var/folders/6d/whj090tn0ddcfm4hx6b9bnp40000gn/T/ipykernel_85639/4248637691.py\"\u001b[0;36m, line \u001b[0;32m15\u001b[0m\n\u001b[0;31m    parallel_plots_tab = pn.Column(\u001b[0m\n\u001b[0m                     ^\u001b[0m\n\u001b[0;31mSyntaxError\u001b[0m\u001b[0;31m:\u001b[0m invalid syntax\n"
     ]
    }
   ],
   "source": [
    "# Create a Title for the Dashboard\n",
    "title = '#Real Estate Analysis of San Francisco from 2010-2016'\n",
    "welcome_tab = pn.Row(pn.Column(title), neighborhood_map())\n",
    "\n",
    "# Create a tab layout for the dashboard\n",
    "# Create the dashboard\n",
    "\n",
    "market_analysis_row = pn.Row(housing_units_per_year(), average_gross_rent(), average_sales_price())\n",
    "\n",
    "\n",
    "neighborhood_analysis_tab = pn.Column(interact(average_price_by_neighborhood,\n",
    "    top_most_expensive_neighborhoods()\n",
    ")\n",
    "\n",
    "parallel_plots_tab = pn.Column( \n",
    "    parallel_categories(),\n",
    "    parallel_coordinates()\n",
    ")\n",
    "\n",
    "SF_dashboard = pn.Tabs((\"Welcome\", welcome_tab), \n",
    "(\"Yearly Market Analysis\", market_analysis_row),\n",
    "(\"Neighborhood Analysis\", neighborhood_analysis_tab), \n",
    "(\"Interactive Market Analysis by Neighborhood\", parallel_plots_tab))\n"
   ]
  },
  {
   "cell_type": "markdown",
   "metadata": {},
   "source": [
    "## Serve the Panel Dashboard"
   ]
  },
  {
   "cell_type": "code",
   "execution_count": 53,
   "metadata": {},
   "outputs": [
    {
     "ename": "NameError",
     "evalue": "name 'SF_dashboard' is not defined",
     "output_type": "error",
     "traceback": [
      "\u001b[0;31m---------------------------------------------------------------------------\u001b[0m",
      "\u001b[0;31mNameError\u001b[0m                                 Traceback (most recent call last)",
      "\u001b[0;32m/var/folders/6d/whj090tn0ddcfm4hx6b9bnp40000gn/T/ipykernel_85639/823863150.py\u001b[0m in \u001b[0;36m<module>\u001b[0;34m\u001b[0m\n\u001b[1;32m      1\u001b[0m \u001b[0;31m# Serve the# dashboard\u001b[0m\u001b[0;34m\u001b[0m\u001b[0;34m\u001b[0m\u001b[0;34m\u001b[0m\u001b[0m\n\u001b[0;32m----> 2\u001b[0;31m \u001b[0mSF_dashboard\u001b[0m\u001b[0;34m.\u001b[0m\u001b[0mservable\u001b[0m\u001b[0;34m(\u001b[0m\u001b[0;34m)\u001b[0m\u001b[0;34m\u001b[0m\u001b[0;34m\u001b[0m\u001b[0m\n\u001b[0m",
      "\u001b[0;31mNameError\u001b[0m: name 'SF_dashboard' is not defined"
     ]
    }
   ],
   "source": [
    "# Serve the# dashboard\n",
    "SF_dashboard.servable()"
   ]
  },
  {
   "cell_type": "markdown",
   "metadata": {},
   "source": [
    "# Debugging\n",
    "\n",
    "Note: Some of the Plotly express plots may not render in the notebook through the panel functions.\n",
    "\n",
    "However, you can test each plot by uncommenting the following code"
   ]
  },
  {
   "cell_type": "code",
   "execution_count": 64,
   "metadata": {},
   "outputs": [
    {
     "data": {},
     "metadata": {},
     "output_type": "display_data"
    },
    {
     "data": {
      "application/vnd.holoviews_exec.v0+json": "",
      "text/html": [
       "<div id='2197'>\n",
       "\n",
       "\n",
       "\n",
       "\n",
       "\n",
       "  <div class=\"bk-root\" id=\"5ced8260-1f16-4fb1-9ece-80412ef33c21\" data-root-id=\"2197\"></div>\n",
       "</div>\n",
       "<script type=\"application/javascript\">(function(root) {\n",
       "  function embed_document(root) {\n",
       "    var docs_json = {\"cf48b1ee-79f9-46a1-9735-378c276c9a46\":{\"defs\":[{\"extends\":null,\"module\":null,\"name\":\"ReactiveHTML1\",\"overrides\":[],\"properties\":[]},{\"extends\":null,\"module\":null,\"name\":\"FlexBox1\",\"overrides\":[],\"properties\":[{\"default\":\"flex-start\",\"kind\":null,\"name\":\"align_content\"},{\"default\":\"flex-start\",\"kind\":null,\"name\":\"align_items\"},{\"default\":\"row\",\"kind\":null,\"name\":\"flex_direction\"},{\"default\":\"wrap\",\"kind\":null,\"name\":\"flex_wrap\"},{\"default\":\"flex-start\",\"kind\":null,\"name\":\"justify_content\"}]},{\"extends\":null,\"module\":null,\"name\":\"TemplateActions1\",\"overrides\":[],\"properties\":[{\"default\":0,\"kind\":null,\"name\":\"open_modal\"},{\"default\":0,\"kind\":null,\"name\":\"close_modal\"}]},{\"extends\":null,\"module\":null,\"name\":\"MaterialTemplateActions1\",\"overrides\":[],\"properties\":[{\"default\":0,\"kind\":null,\"name\":\"open_modal\"},{\"default\":0,\"kind\":null,\"name\":\"close_modal\"}]}],\"roots\":{\"references\":[{\"attributes\":{\"height\":576,\"margin\":[5,5,5,5],\"name\":\"Matplotlib02353\",\"text\":\"&lt;img src=&quot;data:image/png;base64,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&quot; width=&quot;864px&quot; height=&quot;576px&quot; alt=&quot;&quot;&gt;&lt;/img&gt;\",\"width\":864},\"id\":\"2197\",\"type\":\"panel.models.markup.HTML\"},{\"attributes\":{\"client_comm_id\":\"7bfb47e965e849eca4781f11ec16a717\",\"comm_id\":\"badf5a4367da473e9a7040bbd536ef59\",\"plot_id\":\"2197\"},\"id\":\"2198\",\"type\":\"panel.models.comm_manager.CommManager\"}],\"root_ids\":[\"2197\",\"2198\"]},\"title\":\"Bokeh Application\",\"version\":\"2.4.2\"}};\n",
       "    var render_items = [{\"docid\":\"cf48b1ee-79f9-46a1-9735-378c276c9a46\",\"root_ids\":[\"2197\"],\"roots\":{\"2197\":\"5ced8260-1f16-4fb1-9ece-80412ef33c21\"}}];\n",
       "    root.Bokeh.embed.embed_items_notebook(docs_json, render_items);\n",
       "  }\n",
       "  if (root.Bokeh !== undefined && root.Bokeh.Panel !== undefined && ( root['Plotly'] !== undefined)) {\n",
       "    embed_document(root);\n",
       "  } else {\n",
       "    var attempts = 0;\n",
       "    var timer = setInterval(function(root) {\n",
       "      if (root.Bokeh !== undefined && root.Bokeh.Panel !== undefined && (root['Plotly'] !== undefined)) {\n",
       "        clearInterval(timer);\n",
       "        embed_document(root);\n",
       "      } else if (document.readyState == \"complete\") {\n",
       "        attempts++;\n",
       "        if (attempts > 200) {\n",
       "          clearInterval(timer);\n",
       "          console.log(\"Bokeh: ERROR: Unable to run BokehJS code because BokehJS library is missing\");\n",
       "        }\n",
       "      }\n",
       "    }, 25, root)\n",
       "  }\n",
       "})(window);</script>"
      ],
      "text/plain": [
       "Matplotlib(Figure)"
      ]
     },
     "execution_count": 64,
     "metadata": {
      "application/vnd.holoviews_exec.v0+json": {
       "id": "2197"
      }
     },
     "output_type": "execute_result"
    }
   ],
   "source": [
    " housing_units_per_year()"
   ]
  },
  {
   "cell_type": "code",
   "execution_count": 65,
   "metadata": {},
   "outputs": [
    {
     "data": {},
     "metadata": {},
     "output_type": "display_data"
    },
    {
     "data": {
      "application/vnd.holoviews_exec.v0+json": "",
      "text/html": [
       "<div id='2199'>\n",
       "\n",
       "\n",
       "\n",
       "\n",
       "\n",
       "  <div class=\"bk-root\" id=\"9487aad8-bf7f-45c6-a964-a06be4218520\" data-root-id=\"2199\"></div>\n",
       "</div>\n",
       "<script type=\"application/javascript\">(function(root) {\n",
       "  function embed_document(root) {\n",
       "    var docs_json = {\"18e9d527-f25e-4e4e-88cb-5ddba3431715\":{\"defs\":[{\"extends\":null,\"module\":null,\"name\":\"ReactiveHTML1\",\"overrides\":[],\"properties\":[]},{\"extends\":null,\"module\":null,\"name\":\"FlexBox1\",\"overrides\":[],\"properties\":[{\"default\":\"flex-start\",\"kind\":null,\"name\":\"align_content\"},{\"default\":\"flex-start\",\"kind\":null,\"name\":\"align_items\"},{\"default\":\"row\",\"kind\":null,\"name\":\"flex_direction\"},{\"default\":\"wrap\",\"kind\":null,\"name\":\"flex_wrap\"},{\"default\":\"flex-start\",\"kind\":null,\"name\":\"justify_content\"}]},{\"extends\":null,\"module\":null,\"name\":\"TemplateActions1\",\"overrides\":[],\"properties\":[{\"default\":0,\"kind\":null,\"name\":\"open_modal\"},{\"default\":0,\"kind\":null,\"name\":\"close_modal\"}]},{\"extends\":null,\"module\":null,\"name\":\"MaterialTemplateActions1\",\"overrides\":[],\"properties\":[{\"default\":0,\"kind\":null,\"name\":\"open_modal\"},{\"default\":0,\"kind\":null,\"name\":\"close_modal\"}]}],\"roots\":{\"references\":[{\"attributes\":{\"client_comm_id\":\"837f125c22a34c469640039185c3d19c\",\"comm_id\":\"9af0048800ac4c97b8bd0887ad88f933\",\"plot_id\":\"2199\"},\"id\":\"2200\",\"type\":\"panel.models.comm_manager.CommManager\"},{\"attributes\":{\"height\":576,\"margin\":[5,5,5,5],\"name\":\"Matplotlib02357\",\"text\":\"&lt;img src=&quot;data:image/png;base64,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&quot; width=&quot;864px&quot; height=&quot;576px&quot; alt=&quot;&quot;&gt;&lt;/img&gt;\",\"width\":864},\"id\":\"2199\",\"type\":\"panel.models.markup.HTML\"}],\"root_ids\":[\"2199\",\"2200\"]},\"title\":\"Bokeh Application\",\"version\":\"2.4.2\"}};\n",
       "    var render_items = [{\"docid\":\"18e9d527-f25e-4e4e-88cb-5ddba3431715\",\"root_ids\":[\"2199\"],\"roots\":{\"2199\":\"9487aad8-bf7f-45c6-a964-a06be4218520\"}}];\n",
       "    root.Bokeh.embed.embed_items_notebook(docs_json, render_items);\n",
       "  }\n",
       "  if (root.Bokeh !== undefined && root.Bokeh.Panel !== undefined && ( root['Plotly'] !== undefined)) {\n",
       "    embed_document(root);\n",
       "  } else {\n",
       "    var attempts = 0;\n",
       "    var timer = setInterval(function(root) {\n",
       "      if (root.Bokeh !== undefined && root.Bokeh.Panel !== undefined && (root['Plotly'] !== undefined)) {\n",
       "        clearInterval(timer);\n",
       "        embed_document(root);\n",
       "      } else if (document.readyState == \"complete\") {\n",
       "        attempts++;\n",
       "        if (attempts > 200) {\n",
       "          clearInterval(timer);\n",
       "          console.log(\"Bokeh: ERROR: Unable to run BokehJS code because BokehJS library is missing\");\n",
       "        }\n",
       "      }\n",
       "    }, 25, root)\n",
       "  }\n",
       "})(window);</script>"
      ],
      "text/plain": [
       "Matplotlib(Figure)"
      ]
     },
     "execution_count": 65,
     "metadata": {
      "application/vnd.holoviews_exec.v0+json": {
       "id": "2199"
      }
     },
     "output_type": "execute_result"
    }
   ],
   "source": [
    " average_gross_rent()"
   ]
  },
  {
   "cell_type": "code",
   "execution_count": 66,
   "metadata": {},
   "outputs": [
    {
     "data": {},
     "metadata": {},
     "output_type": "display_data"
    },
    {
     "data": {
      "application/vnd.holoviews_exec.v0+json": "",
      "text/html": [
       "<div id='2201'>\n",
       "\n",
       "\n",
       "\n",
       "\n",
       "\n",
       "  <div class=\"bk-root\" id=\"ddda4301-b99b-4958-bf99-a9f57af7562f\" data-root-id=\"2201\"></div>\n",
       "</div>\n",
       "<script type=\"application/javascript\">(function(root) {\n",
       "  function embed_document(root) {\n",
       "    var docs_json = {\"79c33e90-7b58-4e81-bd66-2aebd01bb6df\":{\"defs\":[{\"extends\":null,\"module\":null,\"name\":\"ReactiveHTML1\",\"overrides\":[],\"properties\":[]},{\"extends\":null,\"module\":null,\"name\":\"FlexBox1\",\"overrides\":[],\"properties\":[{\"default\":\"flex-start\",\"kind\":null,\"name\":\"align_content\"},{\"default\":\"flex-start\",\"kind\":null,\"name\":\"align_items\"},{\"default\":\"row\",\"kind\":null,\"name\":\"flex_direction\"},{\"default\":\"wrap\",\"kind\":null,\"name\":\"flex_wrap\"},{\"default\":\"flex-start\",\"kind\":null,\"name\":\"justify_content\"}]},{\"extends\":null,\"module\":null,\"name\":\"TemplateActions1\",\"overrides\":[],\"properties\":[{\"default\":0,\"kind\":null,\"name\":\"open_modal\"},{\"default\":0,\"kind\":null,\"name\":\"close_modal\"}]},{\"extends\":null,\"module\":null,\"name\":\"MaterialTemplateActions1\",\"overrides\":[],\"properties\":[{\"default\":0,\"kind\":null,\"name\":\"open_modal\"},{\"default\":0,\"kind\":null,\"name\":\"close_modal\"}]}],\"roots\":{\"references\":[{\"attributes\":{\"client_comm_id\":\"8505421facb7411a8bdc73cd6533d0f6\",\"comm_id\":\"86be4eadc0404e6d99f02a857f7032ec\",\"plot_id\":\"2201\"},\"id\":\"2202\",\"type\":\"panel.models.comm_manager.CommManager\"},{\"attributes\":{\"height\":576,\"margin\":[5,5,5,5],\"name\":\"Matplotlib02361\",\"text\":\"&lt;img src=&quot;data:image/png;base64,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&quot; width=&quot;864px&quot; height=&quot;576px&quot; alt=&quot;&quot;&gt;&lt;/img&gt;\",\"width\":864},\"id\":\"2201\",\"type\":\"panel.models.markup.HTML\"}],\"root_ids\":[\"2201\",\"2202\"]},\"title\":\"Bokeh Application\",\"version\":\"2.4.2\"}};\n",
       "    var render_items = [{\"docid\":\"79c33e90-7b58-4e81-bd66-2aebd01bb6df\",\"root_ids\":[\"2201\"],\"roots\":{\"2201\":\"ddda4301-b99b-4958-bf99-a9f57af7562f\"}}];\n",
       "    root.Bokeh.embed.embed_items_notebook(docs_json, render_items);\n",
       "  }\n",
       "  if (root.Bokeh !== undefined && root.Bokeh.Panel !== undefined && ( root['Plotly'] !== undefined)) {\n",
       "    embed_document(root);\n",
       "  } else {\n",
       "    var attempts = 0;\n",
       "    var timer = setInterval(function(root) {\n",
       "      if (root.Bokeh !== undefined && root.Bokeh.Panel !== undefined && (root['Plotly'] !== undefined)) {\n",
       "        clearInterval(timer);\n",
       "        embed_document(root);\n",
       "      } else if (document.readyState == \"complete\") {\n",
       "        attempts++;\n",
       "        if (attempts > 200) {\n",
       "          clearInterval(timer);\n",
       "          console.log(\"Bokeh: ERROR: Unable to run BokehJS code because BokehJS library is missing\");\n",
       "        }\n",
       "      }\n",
       "    }, 25, root)\n",
       "  }\n",
       "})(window);</script>"
      ],
      "text/plain": [
       "Matplotlib(Figure)"
      ]
     },
     "execution_count": 66,
     "metadata": {
      "application/vnd.holoviews_exec.v0+json": {
       "id": "2201"
      }
     },
     "output_type": "execute_result"
    }
   ],
   "source": [
    " average_sales_price()"
   ]
  },
  {
   "cell_type": "code",
   "execution_count": 67,
   "metadata": {},
   "outputs": [
    {
     "ename": "TypeError",
     "evalue": "average_price_by_neighborhood() missing 1 required positional argument: 'neighborhood'",
     "output_type": "error",
     "traceback": [
      "\u001b[0;31m---------------------------------------------------------------------------\u001b[0m",
      "\u001b[0;31mTypeError\u001b[0m                                 Traceback (most recent call last)",
      "\u001b[0;32m/var/folders/6d/whj090tn0ddcfm4hx6b9bnp40000gn/T/ipykernel_83371/3540462056.py\u001b[0m in \u001b[0;36m<module>\u001b[0;34m\u001b[0m\n\u001b[0;32m----> 1\u001b[0;31m \u001b[0maverage_price_by_neighborhood\u001b[0m\u001b[0;34m(\u001b[0m\u001b[0;34m)\u001b[0m\u001b[0;34m\u001b[0m\u001b[0;34m\u001b[0m\u001b[0m\n\u001b[0m",
      "\u001b[0;31mTypeError\u001b[0m: average_price_by_neighborhood() missing 1 required positional argument: 'neighborhood'"
     ]
    }
   ],
   "source": [
    " average_price_by_neighborhood()"
   ]
  },
  {
   "cell_type": "code",
   "execution_count": 68,
   "metadata": {},
   "outputs": [
    {
     "data": {
      "application/vnd.plotly.v1+json": {
       "config": {
        "plotlyServerURL": "https://plot.ly"
       },
       "data": [
        {
         "alignmentgroup": "True",
         "hovertemplate": "neighborhood=%{x}<br>sale_price_sqr_foot=%{y}<extra></extra>",
         "legendgroup": "",
         "marker": {
          "color": "#636efa",
          "pattern": {
           "shape": ""
          }
         },
         "name": "",
         "offsetgroup": "",
         "orientation": "v",
         "showlegend": false,
         "textposition": "auto",
         "type": "bar",
         "x": [
          "Union Square District",
          "Merced Heights",
          "Miraloma Park",
          "Pacific Heights",
          "Westwood Park",
          "Telegraph Hill",
          "Presidio Heights",
          "Cow Hollow",
          "Potrero Hill",
          "South Beach"
         ],
         "xaxis": "x",
         "y": [
          903.9932576720645,
          788.8448175872469,
          779.810842264425,
          689.5558168113664,
          687.0875745178322,
          676.5065775293257,
          675.3502120510033,
          665.9640415783227,
          662.0136128276529,
          650.1244791945729
         ],
         "yaxis": "y"
        }
       ],
       "layout": {
        "autosize": true,
        "barmode": "relative",
        "legend": {
         "tracegroupgap": 0
        },
        "template": {
         "data": {
          "bar": [
           {
            "error_x": {
             "color": "#2a3f5f"
            },
            "error_y": {
             "color": "#2a3f5f"
            },
            "marker": {
             "line": {
              "color": "#E5ECF6",
              "width": 0.5
             },
             "pattern": {
              "fillmode": "overlay",
              "size": 10,
              "solidity": 0.2
             }
            },
            "type": "bar"
           }
          ],
          "barpolar": [
           {
            "marker": {
             "line": {
              "color": "#E5ECF6",
              "width": 0.5
             },
             "pattern": {
              "fillmode": "overlay",
              "size": 10,
              "solidity": 0.2
             }
            },
            "type": "barpolar"
           }
          ],
          "carpet": [
           {
            "aaxis": {
             "endlinecolor": "#2a3f5f",
             "gridcolor": "white",
             "linecolor": "white",
             "minorgridcolor": "white",
             "startlinecolor": "#2a3f5f"
            },
            "baxis": {
             "endlinecolor": "#2a3f5f",
             "gridcolor": "white",
             "linecolor": "white",
             "minorgridcolor": "white",
             "startlinecolor": "#2a3f5f"
            },
            "type": "carpet"
           }
          ],
          "choropleth": [
           {
            "colorbar": {
             "outlinewidth": 0,
             "ticks": ""
            },
            "type": "choropleth"
           }
          ],
          "contour": [
           {
            "colorbar": {
             "outlinewidth": 0,
             "ticks": ""
            },
            "colorscale": [
             [
              0,
              "#0d0887"
             ],
             [
              0.1111111111111111,
              "#46039f"
             ],
             [
              0.2222222222222222,
              "#7201a8"
             ],
             [
              0.3333333333333333,
              "#9c179e"
             ],
             [
              0.4444444444444444,
              "#bd3786"
             ],
             [
              0.5555555555555556,
              "#d8576b"
             ],
             [
              0.6666666666666666,
              "#ed7953"
             ],
             [
              0.7777777777777778,
              "#fb9f3a"
             ],
             [
              0.8888888888888888,
              "#fdca26"
             ],
             [
              1,
              "#f0f921"
             ]
            ],
            "type": "contour"
           }
          ],
          "contourcarpet": [
           {
            "colorbar": {
             "outlinewidth": 0,
             "ticks": ""
            },
            "type": "contourcarpet"
           }
          ],
          "heatmap": [
           {
            "colorbar": {
             "outlinewidth": 0,
             "ticks": ""
            },
            "colorscale": [
             [
              0,
              "#0d0887"
             ],
             [
              0.1111111111111111,
              "#46039f"
             ],
             [
              0.2222222222222222,
              "#7201a8"
             ],
             [
              0.3333333333333333,
              "#9c179e"
             ],
             [
              0.4444444444444444,
              "#bd3786"
             ],
             [
              0.5555555555555556,
              "#d8576b"
             ],
             [
              0.6666666666666666,
              "#ed7953"
             ],
             [
              0.7777777777777778,
              "#fb9f3a"
             ],
             [
              0.8888888888888888,
              "#fdca26"
             ],
             [
              1,
              "#f0f921"
             ]
            ],
            "type": "heatmap"
           }
          ],
          "heatmapgl": [
           {
            "colorbar": {
             "outlinewidth": 0,
             "ticks": ""
            },
            "colorscale": [
             [
              0,
              "#0d0887"
             ],
             [
              0.1111111111111111,
              "#46039f"
             ],
             [
              0.2222222222222222,
              "#7201a8"
             ],
             [
              0.3333333333333333,
              "#9c179e"
             ],
             [
              0.4444444444444444,
              "#bd3786"
             ],
             [
              0.5555555555555556,
              "#d8576b"
             ],
             [
              0.6666666666666666,
              "#ed7953"
             ],
             [
              0.7777777777777778,
              "#fb9f3a"
             ],
             [
              0.8888888888888888,
              "#fdca26"
             ],
             [
              1,
              "#f0f921"
             ]
            ],
            "type": "heatmapgl"
           }
          ],
          "histogram": [
           {
            "marker": {
             "pattern": {
              "fillmode": "overlay",
              "size": 10,
              "solidity": 0.2
             }
            },
            "type": "histogram"
           }
          ],
          "histogram2d": [
           {
            "colorbar": {
             "outlinewidth": 0,
             "ticks": ""
            },
            "colorscale": [
             [
              0,
              "#0d0887"
             ],
             [
              0.1111111111111111,
              "#46039f"
             ],
             [
              0.2222222222222222,
              "#7201a8"
             ],
             [
              0.3333333333333333,
              "#9c179e"
             ],
             [
              0.4444444444444444,
              "#bd3786"
             ],
             [
              0.5555555555555556,
              "#d8576b"
             ],
             [
              0.6666666666666666,
              "#ed7953"
             ],
             [
              0.7777777777777778,
              "#fb9f3a"
             ],
             [
              0.8888888888888888,
              "#fdca26"
             ],
             [
              1,
              "#f0f921"
             ]
            ],
            "type": "histogram2d"
           }
          ],
          "histogram2dcontour": [
           {
            "colorbar": {
             "outlinewidth": 0,
             "ticks": ""
            },
            "colorscale": [
             [
              0,
              "#0d0887"
             ],
             [
              0.1111111111111111,
              "#46039f"
             ],
             [
              0.2222222222222222,
              "#7201a8"
             ],
             [
              0.3333333333333333,
              "#9c179e"
             ],
             [
              0.4444444444444444,
              "#bd3786"
             ],
             [
              0.5555555555555556,
              "#d8576b"
             ],
             [
              0.6666666666666666,
              "#ed7953"
             ],
             [
              0.7777777777777778,
              "#fb9f3a"
             ],
             [
              0.8888888888888888,
              "#fdca26"
             ],
             [
              1,
              "#f0f921"
             ]
            ],
            "type": "histogram2dcontour"
           }
          ],
          "mesh3d": [
           {
            "colorbar": {
             "outlinewidth": 0,
             "ticks": ""
            },
            "type": "mesh3d"
           }
          ],
          "parcoords": [
           {
            "line": {
             "colorbar": {
              "outlinewidth": 0,
              "ticks": ""
             }
            },
            "type": "parcoords"
           }
          ],
          "pie": [
           {
            "automargin": true,
            "type": "pie"
           }
          ],
          "scatter": [
           {
            "marker": {
             "colorbar": {
              "outlinewidth": 0,
              "ticks": ""
             }
            },
            "type": "scatter"
           }
          ],
          "scatter3d": [
           {
            "line": {
             "colorbar": {
              "outlinewidth": 0,
              "ticks": ""
             }
            },
            "marker": {
             "colorbar": {
              "outlinewidth": 0,
              "ticks": ""
             }
            },
            "type": "scatter3d"
           }
          ],
          "scattercarpet": [
           {
            "marker": {
             "colorbar": {
              "outlinewidth": 0,
              "ticks": ""
             }
            },
            "type": "scattercarpet"
           }
          ],
          "scattergeo": [
           {
            "marker": {
             "colorbar": {
              "outlinewidth": 0,
              "ticks": ""
             }
            },
            "type": "scattergeo"
           }
          ],
          "scattergl": [
           {
            "marker": {
             "colorbar": {
              "outlinewidth": 0,
              "ticks": ""
             }
            },
            "type": "scattergl"
           }
          ],
          "scattermapbox": [
           {
            "marker": {
             "colorbar": {
              "outlinewidth": 0,
              "ticks": ""
             }
            },
            "type": "scattermapbox"
           }
          ],
          "scatterpolar": [
           {
            "marker": {
             "colorbar": {
              "outlinewidth": 0,
              "ticks": ""
             }
            },
            "type": "scatterpolar"
           }
          ],
          "scatterpolargl": [
           {
            "marker": {
             "colorbar": {
              "outlinewidth": 0,
              "ticks": ""
             }
            },
            "type": "scatterpolargl"
           }
          ],
          "scatterternary": [
           {
            "marker": {
             "colorbar": {
              "outlinewidth": 0,
              "ticks": ""
             }
            },
            "type": "scatterternary"
           }
          ],
          "surface": [
           {
            "colorbar": {
             "outlinewidth": 0,
             "ticks": ""
            },
            "colorscale": [
             [
              0,
              "#0d0887"
             ],
             [
              0.1111111111111111,
              "#46039f"
             ],
             [
              0.2222222222222222,
              "#7201a8"
             ],
             [
              0.3333333333333333,
              "#9c179e"
             ],
             [
              0.4444444444444444,
              "#bd3786"
             ],
             [
              0.5555555555555556,
              "#d8576b"
             ],
             [
              0.6666666666666666,
              "#ed7953"
             ],
             [
              0.7777777777777778,
              "#fb9f3a"
             ],
             [
              0.8888888888888888,
              "#fdca26"
             ],
             [
              1,
              "#f0f921"
             ]
            ],
            "type": "surface"
           }
          ],
          "table": [
           {
            "cells": {
             "fill": {
              "color": "#EBF0F8"
             },
             "line": {
              "color": "white"
             }
            },
            "header": {
             "fill": {
              "color": "#C8D4E3"
             },
             "line": {
              "color": "white"
             }
            },
            "type": "table"
           }
          ]
         },
         "layout": {
          "annotationdefaults": {
           "arrowcolor": "#2a3f5f",
           "arrowhead": 0,
           "arrowwidth": 1
          },
          "autotypenumbers": "strict",
          "coloraxis": {
           "colorbar": {
            "outlinewidth": 0,
            "ticks": ""
           }
          },
          "colorscale": {
           "diverging": [
            [
             0,
             "#8e0152"
            ],
            [
             0.1,
             "#c51b7d"
            ],
            [
             0.2,
             "#de77ae"
            ],
            [
             0.3,
             "#f1b6da"
            ],
            [
             0.4,
             "#fde0ef"
            ],
            [
             0.5,
             "#f7f7f7"
            ],
            [
             0.6,
             "#e6f5d0"
            ],
            [
             0.7,
             "#b8e186"
            ],
            [
             0.8,
             "#7fbc41"
            ],
            [
             0.9,
             "#4d9221"
            ],
            [
             1,
             "#276419"
            ]
           ],
           "sequential": [
            [
             0,
             "#0d0887"
            ],
            [
             0.1111111111111111,
             "#46039f"
            ],
            [
             0.2222222222222222,
             "#7201a8"
            ],
            [
             0.3333333333333333,
             "#9c179e"
            ],
            [
             0.4444444444444444,
             "#bd3786"
            ],
            [
             0.5555555555555556,
             "#d8576b"
            ],
            [
             0.6666666666666666,
             "#ed7953"
            ],
            [
             0.7777777777777778,
             "#fb9f3a"
            ],
            [
             0.8888888888888888,
             "#fdca26"
            ],
            [
             1,
             "#f0f921"
            ]
           ],
           "sequentialminus": [
            [
             0,
             "#0d0887"
            ],
            [
             0.1111111111111111,
             "#46039f"
            ],
            [
             0.2222222222222222,
             "#7201a8"
            ],
            [
             0.3333333333333333,
             "#9c179e"
            ],
            [
             0.4444444444444444,
             "#bd3786"
            ],
            [
             0.5555555555555556,
             "#d8576b"
            ],
            [
             0.6666666666666666,
             "#ed7953"
            ],
            [
             0.7777777777777778,
             "#fb9f3a"
            ],
            [
             0.8888888888888888,
             "#fdca26"
            ],
            [
             1,
             "#f0f921"
            ]
           ]
          },
          "colorway": [
           "#636efa",
           "#EF553B",
           "#00cc96",
           "#ab63fa",
           "#FFA15A",
           "#19d3f3",
           "#FF6692",
           "#B6E880",
           "#FF97FF",
           "#FECB52"
          ],
          "font": {
           "color": "#2a3f5f"
          },
          "geo": {
           "bgcolor": "white",
           "lakecolor": "white",
           "landcolor": "#E5ECF6",
           "showlakes": true,
           "showland": true,
           "subunitcolor": "white"
          },
          "hoverlabel": {
           "align": "left"
          },
          "hovermode": "closest",
          "mapbox": {
           "style": "light"
          },
          "paper_bgcolor": "white",
          "plot_bgcolor": "#E5ECF6",
          "polar": {
           "angularaxis": {
            "gridcolor": "white",
            "linecolor": "white",
            "ticks": ""
           },
           "bgcolor": "#E5ECF6",
           "radialaxis": {
            "gridcolor": "white",
            "linecolor": "white",
            "ticks": ""
           }
          },
          "scene": {
           "xaxis": {
            "backgroundcolor": "#E5ECF6",
            "gridcolor": "white",
            "gridwidth": 2,
            "linecolor": "white",
            "showbackground": true,
            "ticks": "",
            "zerolinecolor": "white"
           },
           "yaxis": {
            "backgroundcolor": "#E5ECF6",
            "gridcolor": "white",
            "gridwidth": 2,
            "linecolor": "white",
            "showbackground": true,
            "ticks": "",
            "zerolinecolor": "white"
           },
           "zaxis": {
            "backgroundcolor": "#E5ECF6",
            "gridcolor": "white",
            "gridwidth": 2,
            "linecolor": "white",
            "showbackground": true,
            "ticks": "",
            "zerolinecolor": "white"
           }
          },
          "shapedefaults": {
           "line": {
            "color": "#2a3f5f"
           }
          },
          "ternary": {
           "aaxis": {
            "gridcolor": "white",
            "linecolor": "white",
            "ticks": ""
           },
           "baxis": {
            "gridcolor": "white",
            "linecolor": "white",
            "ticks": ""
           },
           "bgcolor": "#E5ECF6",
           "caxis": {
            "gridcolor": "white",
            "linecolor": "white",
            "ticks": ""
           }
          },
          "title": {
           "x": 0.05
          },
          "xaxis": {
           "automargin": true,
           "gridcolor": "white",
           "linecolor": "white",
           "ticks": "",
           "title": {
            "standoff": 15
           },
           "zerolinecolor": "white",
           "zerolinewidth": 2
          },
          "yaxis": {
           "automargin": true,
           "gridcolor": "white",
           "linecolor": "white",
           "ticks": "",
           "title": {
            "standoff": 15
           },
           "zerolinecolor": "white",
           "zerolinewidth": 2
          }
         }
        },
        "title": {
         "text": "Top 10 Most Expensive Neighborhoods in San Francisco"
        },
        "xaxis": {
         "anchor": "y",
         "autorange": true,
         "domain": [
          0,
          1
         ],
         "range": [
          -0.5,
          9.5
         ],
         "title": {
          "text": "neighborhood"
         },
         "type": "category"
        },
        "yaxis": {
         "anchor": "x",
         "autorange": true,
         "domain": [
          0,
          1
         ],
         "range": [
          0,
          951.5718501811205
         ],
         "title": {
          "text": "sale_price_sqr_foot"
         },
         "type": "linear"
        }
       }
      },
      "image/png": "[encoded data removed]",
      "text/html": [
       "<div>                            <div id=\"ed6b575a-650a-4943-8c5e-0f341da5c7cd\" class=\"plotly-graph-div\" style=\"height:525px; width:100%;\"></div>            <script type=\"text/javascript\">                require([\"plotly\"], function(Plotly) {                    window.PLOTLYENV=window.PLOTLYENV || {};                                    if (document.getElementById(\"ed6b575a-650a-4943-8c5e-0f341da5c7cd\")) {                    Plotly.newPlot(                        \"ed6b575a-650a-4943-8c5e-0f341da5c7cd\",                        [{\"alignmentgroup\":\"True\",\"hovertemplate\":\"neighborhood=%{x}<br>sale_price_sqr_foot=%{y}<extra></extra>\",\"legendgroup\":\"\",\"marker\":{\"color\":\"#636efa\",\"pattern\":{\"shape\":\"\"}},\"name\":\"\",\"offsetgroup\":\"\",\"orientation\":\"v\",\"showlegend\":false,\"textposition\":\"auto\",\"x\":[\"Union Square District\",\"Merced Heights\",\"Miraloma Park\",\"Pacific Heights\",\"Westwood Park\",\"Telegraph Hill\",\"Presidio Heights\",\"Cow Hollow\",\"Potrero Hill\",\"South Beach\"],\"xaxis\":\"x\",\"y\":[903.9932576720645,788.8448175872469,779.810842264425,689.5558168113664,687.0875745178322,676.5065775293257,675.3502120510033,665.9640415783227,662.0136128276529,650.1244791945729],\"yaxis\":\"y\",\"type\":\"bar\"}],                        {\"template\":{\"data\":{\"bar\":[{\"error_x\":{\"color\":\"#2a3f5f\"},\"error_y\":{\"color\":\"#2a3f5f\"},\"marker\":{\"line\":{\"color\":\"#E5ECF6\",\"width\":0.5},\"pattern\":{\"fillmode\":\"overlay\",\"size\":10,\"solidity\":0.2}},\"type\":\"bar\"}],\"barpolar\":[{\"marker\":{\"line\":{\"color\":\"#E5ECF6\",\"width\":0.5},\"pattern\":{\"fillmode\":\"overlay\",\"size\":10,\"solidity\":0.2}},\"type\":\"barpolar\"}],\"carpet\":[{\"aaxis\":{\"endlinecolor\":\"#2a3f5f\",\"gridcolor\":\"white\",\"linecolor\":\"white\",\"minorgridcolor\":\"white\",\"startlinecolor\":\"#2a3f5f\"},\"baxis\":{\"endlinecolor\":\"#2a3f5f\",\"gridcolor\":\"white\",\"linecolor\":\"white\",\"minorgridcolor\":\"white\",\"startlinecolor\":\"#2a3f5f\"},\"type\":\"carpet\"}],\"choropleth\":[{\"colorbar\":{\"outlinewidth\":0,\"ticks\":\"\"},\"type\":\"choropleth\"}],\"contour\":[{\"colorbar\":{\"outlinewidth\":0,\"ticks\":\"\"},\"colorscale\":[[0.0,\"#0d0887\"],[0.1111111111111111,\"#46039f\"],[0.2222222222222222,\"#7201a8\"],[0.3333333333333333,\"#9c179e\"],[0.4444444444444444,\"#bd3786\"],[0.5555555555555556,\"#d8576b\"],[0.6666666666666666,\"#ed7953\"],[0.7777777777777778,\"#fb9f3a\"],[0.8888888888888888,\"#fdca26\"],[1.0,\"#f0f921\"]],\"type\":\"contour\"}],\"contourcarpet\":[{\"colorbar\":{\"outlinewidth\":0,\"ticks\":\"\"},\"type\":\"contourcarpet\"}],\"heatmap\":[{\"colorbar\":{\"outlinewidth\":0,\"ticks\":\"\"},\"colorscale\":[[0.0,\"#0d0887\"],[0.1111111111111111,\"#46039f\"],[0.2222222222222222,\"#7201a8\"],[0.3333333333333333,\"#9c179e\"],[0.4444444444444444,\"#bd3786\"],[0.5555555555555556,\"#d8576b\"],[0.6666666666666666,\"#ed7953\"],[0.7777777777777778,\"#fb9f3a\"],[0.8888888888888888,\"#fdca26\"],[1.0,\"#f0f921\"]],\"type\":\"heatmap\"}],\"heatmapgl\":[{\"colorbar\":{\"outlinewidth\":0,\"ticks\":\"\"},\"colorscale\":[[0.0,\"#0d0887\"],[0.1111111111111111,\"#46039f\"],[0.2222222222222222,\"#7201a8\"],[0.3333333333333333,\"#9c179e\"],[0.4444444444444444,\"#bd3786\"],[0.5555555555555556,\"#d8576b\"],[0.6666666666666666,\"#ed7953\"],[0.7777777777777778,\"#fb9f3a\"],[0.8888888888888888,\"#fdca26\"],[1.0,\"#f0f921\"]],\"type\":\"heatmapgl\"}],\"histogram\":[{\"marker\":{\"pattern\":{\"fillmode\":\"overlay\",\"size\":10,\"solidity\":0.2}},\"type\":\"histogram\"}],\"histogram2d\":[{\"colorbar\":{\"outlinewidth\":0,\"ticks\":\"\"},\"colorscale\":[[0.0,\"#0d0887\"],[0.1111111111111111,\"#46039f\"],[0.2222222222222222,\"#7201a8\"],[0.3333333333333333,\"#9c179e\"],[0.4444444444444444,\"#bd3786\"],[0.5555555555555556,\"#d8576b\"],[0.6666666666666666,\"#ed7953\"],[0.7777777777777778,\"#fb9f3a\"],[0.8888888888888888,\"#fdca26\"],[1.0,\"#f0f921\"]],\"type\":\"histogram2d\"}],\"histogram2dcontour\":[{\"colorbar\":{\"outlinewidth\":0,\"ticks\":\"\"},\"colorscale\":[[0.0,\"#0d0887\"],[0.1111111111111111,\"#46039f\"],[0.2222222222222222,\"#7201a8\"],[0.3333333333333333,\"#9c179e\"],[0.4444444444444444,\"#bd3786\"],[0.5555555555555556,\"#d8576b\"],[0.6666666666666666,\"#ed7953\"],[0.7777777777777778,\"#fb9f3a\"],[0.8888888888888888,\"#fdca26\"],[1.0,\"#f0f921\"]],\"type\":\"histogram2dcontour\"}],\"mesh3d\":[{\"colorbar\":{\"outlinewidth\":0,\"ticks\":\"\"},\"type\":\"mesh3d\"}],\"parcoords\":[{\"line\":{\"colorbar\":{\"outlinewidth\":0,\"ticks\":\"\"}},\"type\":\"parcoords\"}],\"pie\":[{\"automargin\":true,\"type\":\"pie\"}],\"scatter\":[{\"marker\":{\"colorbar\":{\"outlinewidth\":0,\"ticks\":\"\"}},\"type\":\"scatter\"}],\"scatter3d\":[{\"line\":{\"colorbar\":{\"outlinewidth\":0,\"ticks\":\"\"}},\"marker\":{\"colorbar\":{\"outlinewidth\":0,\"ticks\":\"\"}},\"type\":\"scatter3d\"}],\"scattercarpet\":[{\"marker\":{\"colorbar\":{\"outlinewidth\":0,\"ticks\":\"\"}},\"type\":\"scattercarpet\"}],\"scattergeo\":[{\"marker\":{\"colorbar\":{\"outlinewidth\":0,\"ticks\":\"\"}},\"type\":\"scattergeo\"}],\"scattergl\":[{\"marker\":{\"colorbar\":{\"outlinewidth\":0,\"ticks\":\"\"}},\"type\":\"scattergl\"}],\"scattermapbox\":[{\"marker\":{\"colorbar\":{\"outlinewidth\":0,\"ticks\":\"\"}},\"type\":\"scattermapbox\"}],\"scatterpolar\":[{\"marker\":{\"colorbar\":{\"outlinewidth\":0,\"ticks\":\"\"}},\"type\":\"scatterpolar\"}],\"scatterpolargl\":[{\"marker\":{\"colorbar\":{\"outlinewidth\":0,\"ticks\":\"\"}},\"type\":\"scatterpolargl\"}],\"scatterternary\":[{\"marker\":{\"colorbar\":{\"outlinewidth\":0,\"ticks\":\"\"}},\"type\":\"scatterternary\"}],\"surface\":[{\"colorbar\":{\"outlinewidth\":0,\"ticks\":\"\"},\"colorscale\":[[0.0,\"#0d0887\"],[0.1111111111111111,\"#46039f\"],[0.2222222222222222,\"#7201a8\"],[0.3333333333333333,\"#9c179e\"],[0.4444444444444444,\"#bd3786\"],[0.5555555555555556,\"#d8576b\"],[0.6666666666666666,\"#ed7953\"],[0.7777777777777778,\"#fb9f3a\"],[0.8888888888888888,\"#fdca26\"],[1.0,\"#f0f921\"]],\"type\":\"surface\"}],\"table\":[{\"cells\":{\"fill\":{\"color\":\"#EBF0F8\"},\"line\":{\"color\":\"white\"}},\"header\":{\"fill\":{\"color\":\"#C8D4E3\"},\"line\":{\"color\":\"white\"}},\"type\":\"table\"}]},\"layout\":{\"annotationdefaults\":{\"arrowcolor\":\"#2a3f5f\",\"arrowhead\":0,\"arrowwidth\":1},\"autotypenumbers\":\"strict\",\"coloraxis\":{\"colorbar\":{\"outlinewidth\":0,\"ticks\":\"\"}},\"colorscale\":{\"diverging\":[[0,\"#8e0152\"],[0.1,\"#c51b7d\"],[0.2,\"#de77ae\"],[0.3,\"#f1b6da\"],[0.4,\"#fde0ef\"],[0.5,\"#f7f7f7\"],[0.6,\"#e6f5d0\"],[0.7,\"#b8e186\"],[0.8,\"#7fbc41\"],[0.9,\"#4d9221\"],[1,\"#276419\"]],\"sequential\":[[0.0,\"#0d0887\"],[0.1111111111111111,\"#46039f\"],[0.2222222222222222,\"#7201a8\"],[0.3333333333333333,\"#9c179e\"],[0.4444444444444444,\"#bd3786\"],[0.5555555555555556,\"#d8576b\"],[0.6666666666666666,\"#ed7953\"],[0.7777777777777778,\"#fb9f3a\"],[0.8888888888888888,\"#fdca26\"],[1.0,\"#f0f921\"]],\"sequentialminus\":[[0.0,\"#0d0887\"],[0.1111111111111111,\"#46039f\"],[0.2222222222222222,\"#7201a8\"],[0.3333333333333333,\"#9c179e\"],[0.4444444444444444,\"#bd3786\"],[0.5555555555555556,\"#d8576b\"],[0.6666666666666666,\"#ed7953\"],[0.7777777777777778,\"#fb9f3a\"],[0.8888888888888888,\"#fdca26\"],[1.0,\"#f0f921\"]]},\"colorway\":[\"#636efa\",\"#EF553B\",\"#00cc96\",\"#ab63fa\",\"#FFA15A\",\"#19d3f3\",\"#FF6692\",\"#B6E880\",\"#FF97FF\",\"#FECB52\"],\"font\":{\"color\":\"#2a3f5f\"},\"geo\":{\"bgcolor\":\"white\",\"lakecolor\":\"white\",\"landcolor\":\"#E5ECF6\",\"showlakes\":true,\"showland\":true,\"subunitcolor\":\"white\"},\"hoverlabel\":{\"align\":\"left\"},\"hovermode\":\"closest\",\"mapbox\":{\"style\":\"light\"},\"paper_bgcolor\":\"white\",\"plot_bgcolor\":\"#E5ECF6\",\"polar\":{\"angularaxis\":{\"gridcolor\":\"white\",\"linecolor\":\"white\",\"ticks\":\"\"},\"bgcolor\":\"#E5ECF6\",\"radialaxis\":{\"gridcolor\":\"white\",\"linecolor\":\"white\",\"ticks\":\"\"}},\"scene\":{\"xaxis\":{\"backgroundcolor\":\"#E5ECF6\",\"gridcolor\":\"white\",\"gridwidth\":2,\"linecolor\":\"white\",\"showbackground\":true,\"ticks\":\"\",\"zerolinecolor\":\"white\"},\"yaxis\":{\"backgroundcolor\":\"#E5ECF6\",\"gridcolor\":\"white\",\"gridwidth\":2,\"linecolor\":\"white\",\"showbackground\":true,\"ticks\":\"\",\"zerolinecolor\":\"white\"},\"zaxis\":{\"backgroundcolor\":\"#E5ECF6\",\"gridcolor\":\"white\",\"gridwidth\":2,\"linecolor\":\"white\",\"showbackground\":true,\"ticks\":\"\",\"zerolinecolor\":\"white\"}},\"shapedefaults\":{\"line\":{\"color\":\"#2a3f5f\"}},\"ternary\":{\"aaxis\":{\"gridcolor\":\"white\",\"linecolor\":\"white\",\"ticks\":\"\"},\"baxis\":{\"gridcolor\":\"white\",\"linecolor\":\"white\",\"ticks\":\"\"},\"bgcolor\":\"#E5ECF6\",\"caxis\":{\"gridcolor\":\"white\",\"linecolor\":\"white\",\"ticks\":\"\"}},\"title\":{\"x\":0.05},\"xaxis\":{\"automargin\":true,\"gridcolor\":\"white\",\"linecolor\":\"white\",\"ticks\":\"\",\"title\":{\"standoff\":15},\"zerolinecolor\":\"white\",\"zerolinewidth\":2},\"yaxis\":{\"automargin\":true,\"gridcolor\":\"white\",\"linecolor\":\"white\",\"ticks\":\"\",\"title\":{\"standoff\":15},\"zerolinecolor\":\"white\",\"zerolinewidth\":2}}},\"xaxis\":{\"anchor\":\"y\",\"domain\":[0.0,1.0],\"title\":{\"text\":\"neighborhood\"}},\"yaxis\":{\"anchor\":\"x\",\"domain\":[0.0,1.0],\"title\":{\"text\":\"sale_price_sqr_foot\"}},\"legend\":{\"tracegroupgap\":0},\"title\":{\"text\":\"Top 10 Most Expensive Neighborhoods in San Francisco\"},\"barmode\":\"relative\"},                        {\"responsive\": true}                    ).then(function(){\n",
       "                            \n",
       "var gd = document.getElementById('ed6b575a-650a-4943-8c5e-0f341da5c7cd');\n",
       "var x = new MutationObserver(function (mutations, observer) {{\n",
       "        var display = window.getComputedStyle(gd).display;\n",
       "        if (!display || display === 'none') {{\n",
       "            console.log([gd, 'removed!']);\n",
       "            Plotly.purge(gd);\n",
       "            observer.disconnect();\n",
       "        }}\n",
       "}});\n",
       "\n",
       "// Listen for the removal of the full notebook cells\n",
       "var notebookContainer = gd.closest('#notebook-container');\n",
       "if (notebookContainer) {{\n",
       "    x.observe(notebookContainer, {childList: true});\n",
       "}}\n",
       "\n",
       "// Listen for the clearing of the current output cell\n",
       "var outputEl = gd.closest('.output');\n",
       "if (outputEl) {{\n",
       "    x.observe(outputEl, {childList: true});\n",
       "}}\n",
       "\n",
       "                        })                };                });            </script>        </div>"
      ]
     },
     "metadata": {},
     "output_type": "display_data"
    }
   ],
   "source": [
    " top_most_expensive_neighborhoods()"
   ]
  },
  {
   "cell_type": "code",
   "execution_count": 46,
   "metadata": {},
   "outputs": [
    {
     "ename": "KeyError",
     "evalue": "('neighborhood', 'year')",
     "output_type": "error",
     "traceback": [
      "\u001b[0;31m---------------------------------------------------------------------------\u001b[0m",
      "\u001b[0;31mKeyError\u001b[0m                                  Traceback (most recent call last)",
      "\u001b[0;32m~/opt/anaconda3/envs/pyvizenv/lib/python3.7/site-packages/pandas/core/indexes/base.py\u001b[0m in \u001b[0;36mget_loc\u001b[0;34m(self, key, method, tolerance)\u001b[0m\n\u001b[1;32m   3360\u001b[0m             \u001b[0;32mtry\u001b[0m\u001b[0;34m:\u001b[0m\u001b[0;34m\u001b[0m\u001b[0;34m\u001b[0m\u001b[0m\n\u001b[0;32m-> 3361\u001b[0;31m                 \u001b[0;32mreturn\u001b[0m \u001b[0mself\u001b[0m\u001b[0;34m.\u001b[0m\u001b[0m_engine\u001b[0m\u001b[0;34m.\u001b[0m\u001b[0mget_loc\u001b[0m\u001b[0;34m(\u001b[0m\u001b[0mcasted_key\u001b[0m\u001b[0;34m)\u001b[0m\u001b[0;34m\u001b[0m\u001b[0;34m\u001b[0m\u001b[0m\n\u001b[0m\u001b[1;32m   3362\u001b[0m             \u001b[0;32mexcept\u001b[0m \u001b[0mKeyError\u001b[0m \u001b[0;32mas\u001b[0m \u001b[0merr\u001b[0m\u001b[0;34m:\u001b[0m\u001b[0;34m\u001b[0m\u001b[0;34m\u001b[0m\u001b[0m\n",
      "\u001b[0;32m~/opt/anaconda3/envs/pyvizenv/lib/python3.7/site-packages/pandas/_libs/index.pyx\u001b[0m in \u001b[0;36mpandas._libs.index.IndexEngine.get_loc\u001b[0;34m()\u001b[0m\n",
      "\u001b[0;32m~/opt/anaconda3/envs/pyvizenv/lib/python3.7/site-packages/pandas/_libs/index.pyx\u001b[0m in \u001b[0;36mpandas._libs.index.IndexEngine.get_loc\u001b[0;34m()\u001b[0m\n",
      "\u001b[0;32mpandas/_libs/hashtable_class_helper.pxi\u001b[0m in \u001b[0;36mpandas._libs.hashtable.PyObjectHashTable.get_item\u001b[0;34m()\u001b[0m\n",
      "\u001b[0;32mpandas/_libs/hashtable_class_helper.pxi\u001b[0m in \u001b[0;36mpandas._libs.hashtable.PyObjectHashTable.get_item\u001b[0;34m()\u001b[0m\n",
      "\u001b[0;31mKeyError\u001b[0m: ('neighborhood', 'year')",
      "\nThe above exception was the direct cause of the following exception:\n",
      "\u001b[0;31mKeyError\u001b[0m                                  Traceback (most recent call last)",
      "\u001b[0;32m/var/folders/6d/whj090tn0ddcfm4hx6b9bnp40000gn/T/ipykernel_83371/855061389.py\u001b[0m in \u001b[0;36m<module>\u001b[0;34m\u001b[0m\n\u001b[0;32m----> 1\u001b[0;31m \u001b[0mmost_expensive_neighborhoods_rent_sales\u001b[0m\u001b[0;34m(\u001b[0m\u001b[0;34m)\u001b[0m\u001b[0;34m\u001b[0m\u001b[0;34m\u001b[0m\u001b[0m\n\u001b[0m",
      "\u001b[0;32m/var/folders/6d/whj090tn0ddcfm4hx6b9bnp40000gn/T/ipykernel_83371/1062833252.py\u001b[0m in \u001b[0;36mmost_expensive_neighborhoods_rent_sales\u001b[0;34m()\u001b[0m\n\u001b[1;32m      2\u001b[0m     \u001b[0;34m\"\"\"Comparison of Rent and Sales Prices of Most Expensive Neighborhoods.\"\"\"\u001b[0m\u001b[0;34m\u001b[0m\u001b[0;34m\u001b[0m\u001b[0m\n\u001b[1;32m      3\u001b[0m \u001b[0;34m\u001b[0m\u001b[0m\n\u001b[0;32m----> 4\u001b[0;31m     \u001b[0mavg_price_per_neighborhood\u001b[0m \u001b[0;34m=\u001b[0m \u001b[0msf_data\u001b[0m\u001b[0;34m.\u001b[0m\u001b[0mgroupby\u001b[0m\u001b[0;34m(\u001b[0m\u001b[0;34m[\u001b[0m\u001b[0msf_data\u001b[0m\u001b[0;34m[\u001b[0m\u001b[0;34m\"neighborhood\"\u001b[0m\u001b[0;34m,\u001b[0m \u001b[0;34m\"year\"\u001b[0m\u001b[0;34m]\u001b[0m\u001b[0;34m]\u001b[0m\u001b[0;34m)\u001b[0m\u001b[0;34m.\u001b[0m\u001b[0mmean\u001b[0m\u001b[0;34m(\u001b[0m\u001b[0;34m)\u001b[0m\u001b[0;34m\u001b[0m\u001b[0;34m\u001b[0m\u001b[0m\n\u001b[0m\u001b[1;32m      5\u001b[0m \u001b[0;34m\u001b[0m\u001b[0m\n\u001b[1;32m      6\u001b[0m     \u001b[0mavg_price_per_neighborhood\u001b[0m\u001b[0;34m[\u001b[0m\u001b[0;34m[\u001b[0m\u001b[0;34m\"housing-units\"\u001b[0m\u001b[0;34m,\u001b[0m \u001b[0;34m\"gross_rent\"\u001b[0m\u001b[0;34m]\u001b[0m\u001b[0;34m]\u001b[0m \u001b[0;34m=\u001b[0m \u001b[0mavg_price_per_neighborhood\u001b[0m\u001b[0;34m[\u001b[0m\u001b[0;34m[\u001b[0m\u001b[0;34m'housing_units'\u001b[0m\u001b[0;34m,\u001b[0m \u001b[0;34m'gross_rent'\u001b[0m\u001b[0;34m]\u001b[0m\u001b[0;34m]\u001b[0m\u001b[0;34m\u001b[0m\u001b[0;34m\u001b[0m\u001b[0m\n",
      "\u001b[0;32m~/opt/anaconda3/envs/pyvizenv/lib/python3.7/site-packages/pandas/core/frame.py\u001b[0m in \u001b[0;36m__getitem__\u001b[0;34m(self, key)\u001b[0m\n\u001b[1;32m   3456\u001b[0m             \u001b[0;32mif\u001b[0m \u001b[0mself\u001b[0m\u001b[0;34m.\u001b[0m\u001b[0mcolumns\u001b[0m\u001b[0;34m.\u001b[0m\u001b[0mnlevels\u001b[0m \u001b[0;34m>\u001b[0m \u001b[0;36m1\u001b[0m\u001b[0;34m:\u001b[0m\u001b[0;34m\u001b[0m\u001b[0;34m\u001b[0m\u001b[0m\n\u001b[1;32m   3457\u001b[0m                 \u001b[0;32mreturn\u001b[0m \u001b[0mself\u001b[0m\u001b[0;34m.\u001b[0m\u001b[0m_getitem_multilevel\u001b[0m\u001b[0;34m(\u001b[0m\u001b[0mkey\u001b[0m\u001b[0;34m)\u001b[0m\u001b[0;34m\u001b[0m\u001b[0;34m\u001b[0m\u001b[0m\n\u001b[0;32m-> 3458\u001b[0;31m             \u001b[0mindexer\u001b[0m \u001b[0;34m=\u001b[0m \u001b[0mself\u001b[0m\u001b[0;34m.\u001b[0m\u001b[0mcolumns\u001b[0m\u001b[0;34m.\u001b[0m\u001b[0mget_loc\u001b[0m\u001b[0;34m(\u001b[0m\u001b[0mkey\u001b[0m\u001b[0;34m)\u001b[0m\u001b[0;34m\u001b[0m\u001b[0;34m\u001b[0m\u001b[0m\n\u001b[0m\u001b[1;32m   3459\u001b[0m             \u001b[0;32mif\u001b[0m \u001b[0mis_integer\u001b[0m\u001b[0;34m(\u001b[0m\u001b[0mindexer\u001b[0m\u001b[0;34m)\u001b[0m\u001b[0;34m:\u001b[0m\u001b[0;34m\u001b[0m\u001b[0;34m\u001b[0m\u001b[0m\n\u001b[1;32m   3460\u001b[0m                 \u001b[0mindexer\u001b[0m \u001b[0;34m=\u001b[0m \u001b[0;34m[\u001b[0m\u001b[0mindexer\u001b[0m\u001b[0;34m]\u001b[0m\u001b[0;34m\u001b[0m\u001b[0;34m\u001b[0m\u001b[0m\n",
      "\u001b[0;32m~/opt/anaconda3/envs/pyvizenv/lib/python3.7/site-packages/pandas/core/indexes/base.py\u001b[0m in \u001b[0;36mget_loc\u001b[0;34m(self, key, method, tolerance)\u001b[0m\n\u001b[1;32m   3361\u001b[0m                 \u001b[0;32mreturn\u001b[0m \u001b[0mself\u001b[0m\u001b[0;34m.\u001b[0m\u001b[0m_engine\u001b[0m\u001b[0;34m.\u001b[0m\u001b[0mget_loc\u001b[0m\u001b[0;34m(\u001b[0m\u001b[0mcasted_key\u001b[0m\u001b[0;34m)\u001b[0m\u001b[0;34m\u001b[0m\u001b[0;34m\u001b[0m\u001b[0m\n\u001b[1;32m   3362\u001b[0m             \u001b[0;32mexcept\u001b[0m \u001b[0mKeyError\u001b[0m \u001b[0;32mas\u001b[0m \u001b[0merr\u001b[0m\u001b[0;34m:\u001b[0m\u001b[0;34m\u001b[0m\u001b[0;34m\u001b[0m\u001b[0m\n\u001b[0;32m-> 3363\u001b[0;31m                 \u001b[0;32mraise\u001b[0m \u001b[0mKeyError\u001b[0m\u001b[0;34m(\u001b[0m\u001b[0mkey\u001b[0m\u001b[0;34m)\u001b[0m \u001b[0;32mfrom\u001b[0m \u001b[0merr\u001b[0m\u001b[0;34m\u001b[0m\u001b[0;34m\u001b[0m\u001b[0m\n\u001b[0m\u001b[1;32m   3364\u001b[0m \u001b[0;34m\u001b[0m\u001b[0m\n\u001b[1;32m   3365\u001b[0m         \u001b[0;32mif\u001b[0m \u001b[0mis_scalar\u001b[0m\u001b[0;34m(\u001b[0m\u001b[0mkey\u001b[0m\u001b[0;34m)\u001b[0m \u001b[0;32mand\u001b[0m \u001b[0misna\u001b[0m\u001b[0;34m(\u001b[0m\u001b[0mkey\u001b[0m\u001b[0;34m)\u001b[0m \u001b[0;32mand\u001b[0m \u001b[0;32mnot\u001b[0m \u001b[0mself\u001b[0m\u001b[0;34m.\u001b[0m\u001b[0mhasnans\u001b[0m\u001b[0;34m:\u001b[0m\u001b[0;34m\u001b[0m\u001b[0;34m\u001b[0m\u001b[0m\n",
      "\u001b[0;31mKeyError\u001b[0m: ('neighborhood', 'year')"
     ]
    }
   ],
   "source": [
    "most_expensive_neighborhoods_rent_sales()"
   ]
  },
  {
   "cell_type": "code",
   "execution_count": 47,
   "metadata": {},
   "outputs": [
    {
     "data": {
      "application/vnd.plotly.v1+json": {
       "config": {
        "plotlyServerURL": "https://plot.ly"
       },
       "data": [
        {
         "hovertemplate": "sale_price_sqr_foot=%{marker.size}<br>Lat=%{lat}<br>Lon=%{lon}<br>gross_rent=%{marker.color}<extra></extra>",
         "lat": [
          37.791012,
          37.779598,
          37.73467,
          37.72874,
          37.72863,
          37.76816,
          37.77789,
          37.74961,
          37.75331,
          37.78553,
          37.79298,
          37.7228,
          37.72863,
          37.79101,
          37.76964,
          37.75554,
          37.72874,
          37.79101,
          37.79101,
          37.75706,
          37.72863,
          37.757912,
          37.76525,
          37.76525,
          37.72551,
          37.721161,
          37.72116,
          37.75416,
          37.74961,
          37.769112,
          37.74961,
          37.78553,
          37.80152,
          37.7789,
          37.79298,
          37.79972,
          37.71993,
          37.75331,
          37.73415,
          37.78323,
          37.75184,
          37.72863,
          37.79298,
          37.75331,
          37.80055,
          37.80055,
          37.71993,
          37.7228,
          37.7517,
          37.76911,
          37.74961,
          37.79298,
          37.72838,
          37.74961,
          37.76355,
          37.73467,
          37.73196,
          37.78553,
          37.79298,
          37.73467,
          37.78323,
          37.79101,
          37.73415,
          37.80055,
          37.753311,
          37.79101,
          37.77951,
          37.72874,
          37.74026,
          37.79298,
          37.7347,
          37.73415,
          37.79298
         ],
         "legendgroup": "",
         "lon": [
          -122.4021,
          -122.443451,
          -122.40106,
          -122.41098,
          -122.44305,
          -122.43933,
          -122.44517,
          -122.48999,
          -122.44703,
          -122.456,
          -122.43579,
          -122.43869,
          -122.44305,
          -122.4021,
          -122.42611,
          -122.43779,
          -122.41098,
          -122.4021,
          -122.4021,
          -122.45509,
          -122.44305,
          -122.46402,
          -122.43596,
          -122.43596,
          -122.37178,
          -122.487068,
          -122.48707,
          -122.41947,
          -122.48999,
          -122.483566,
          -122.48997,
          -122.456,
          -122.45457,
          -122.45496,
          -122.43579,
          -122.46689,
          -122.46595,
          -122.44703,
          -122.457,
          -122.40065,
          -122.42522,
          -122.44305,
          -122.43579,
          -122.44703,
          -122.40433,
          -122.40433,
          -122.46595,
          -122.43869,
          -122.446,
          -122.48357,
          -122.48999,
          -122.43579,
          -122.47851,
          -122.48999,
          -122.45765,
          -122.40106,
          -122.38324,
          -122.456,
          -122.43579,
          -122.40106,
          -122.40065,
          -122.4021,
          -122.457,
          -122.40433,
          -122.447029,
          -122.4021,
          -122.42022,
          -122.41098,
          -122.46388,
          -122.43579,
          -122.456854,
          -122.457,
          -122.39636
         ],
         "marker": {
          "color": [
           2817.285714285714,
           3031.8333333333335,
           2318.4,
           3739,
           3080.3333333333335,
           2698.8333333333335,
           2817.285714285714,
           2817.285714285714,
           2250.5,
           2472,
           2817.285714285714,
           2698.8333333333335,
           2016,
           2817.285714285714,
           2780.25,
           2817.285714285714,
           3031.8333333333335,
           2817.285714285714,
           2472,
           1781.5,
           2899.5,
           2601.4,
           2817.285714285714,
           2817.285714285714,
           2489,
           2509,
           2960,
           2817.285714285714,
           3224,
           2817.285714285714,
           2817.285714285714,
           2817.285714285714,
           2555.1666666666665,
           2555.1666666666665,
           2817.285714285714,
           2817.285714285714,
           3414,
           2647.5,
           2155.25,
           2663.6666666666665,
           2555.1666666666665,
           3173.4,
           2817.285714285714,
           2817.285714285714,
           2990.8,
           2818.4,
           2434,
           2995.75,
           2817.285714285714,
           2817.285714285714,
           2817.285714285714,
           2817.285714285714,
           2817.285714285714,
           2555.1666666666665,
           2817.285714285714,
           2318.4,
           2817.285714285714,
           2817.285714285714,
           2817.285714285714,
           3528,
           2099,
           2817.285714285714,
           2899.5,
           2817.285714285714,
           2817.285714285714,
           2555.1666666666665,
           2817.285714285714,
           3657,
           2515.5,
           2555.1666666666665,
           2250.5,
           3959,
           2555.1666666666665
          ],
          "coloraxis": "coloraxis",
          "size": [
           366.02071153227644,
           373.382197826477,
           204.58862288246596,
           590.7928388746803,
           576.7464881132382,
           452.6805909308441,
           394.42239878005887,
           423.68792770158234,
           487.2448860262576,
           587.5390673661739,
           665.9640415783227,
           303.0041844084943,
           434.9917394452212,
           391.43437776742576,
           502.59915555623616,
           642.2486706357391,
           388.7659270023075,
           391.36253308010487,
           455.83621223779153,
           321.84083657398736,
           623.8261775374349,
           639.3935574881156,
           449.5447622856192,
           355.93282794805776,
           170.62491987132685,
           367.8951440852775,
           384.7979281346047,
           397.67371473613446,
           519.3856038526768,
           378.5943139613646,
           413.66751546215943,
           529.3841850673389,
           409.95435219297514,
           478.2285530213679,
           539.237968878326,
           583.7492694814548,
           788.8448175872469,
           550.5103482917151,
           779.810842264425,
           566.1922135483312,
           418.9156225067234,
           523.4662013248023,
           458.2040944846015,
           542.4429128151736,
           411.646875881678,
           498.2697550078768,
           330.0973846552545,
           242.37095202049665,
           485.0270126111035,
           473.90077331796317,
           394.21903228550775,
           689.5558168113664,
           373.73285637176303,
           336.172661037069,
           632.740453508577,
           327.1139253464728,
           662.0136128276529,
           675.3502120510033,
           608.9832172374425,
           170.2925485152069,
           650.1244791945729,
           570.2714266991686,
           528.3183317138463,
           676.5065775293257,
           469.39862649935156,
           903.9932576720645,
           404.1501801622257,
           301.46617997450267,
           498.4884848295011,
           307.5622009799607,
           533.7039354359513,
           687.0875745178322,
           576.709848378276
          ],
          "sizemode": "area",
          "sizeref": 2.259983144180161
         },
         "mode": "markers",
         "name": "",
         "showlegend": false,
         "subplot": "mapbox",
         "type": "scattermapbox"
        }
       ],
       "layout": {
        "autosize": true,
        "coloraxis": {
         "colorbar": {
          "title": {
           "text": "gross_rent"
          }
         },
         "colorscale": [
          [
           0,
           "#000000"
          ],
          [
           0.0625,
           "#001f4d"
          ],
          [
           0.125,
           "#003786"
          ],
          [
           0.1875,
           "#0e58a8"
          ],
          [
           0.25,
           "#217eb8"
          ],
          [
           0.3125,
           "#30a4ca"
          ],
          [
           0.375,
           "#54c8df"
          ],
          [
           0.4375,
           "#9be4ef"
          ],
          [
           0.5,
           "#e1e9d1"
          ],
          [
           0.5625,
           "#f3d573"
          ],
          [
           0.625,
           "#e7b000"
          ],
          [
           0.6875,
           "#da8200"
          ],
          [
           0.75,
           "#c65400"
          ],
          [
           0.8125,
           "#ac2301"
          ],
          [
           0.875,
           "#820000"
          ],
          [
           0.9375,
           "#4c0000"
          ],
          [
           1,
           "#000000"
          ]
         ]
        },
        "legend": {
         "itemsizing": "constant",
         "tracegroupgap": 0
        },
        "mapbox": {
         "accesstoken": "pk.eyJ1Ijoic2hhbmVsazEiLCJhIjoiY2t5aHFqYzJ4MWRrMjMxc2Vuam5rNWNvYiJ9.LYf3_wGf6KNXQ3G6J93ViA",
         "bearing": 0,
         "center": {
          "lat": 37.76832394000283,
          "lon": -122.41870087930141
         },
         "domain": {
          "x": [
           0,
           1
          ],
          "y": [
           0,
           1
          ]
         },
         "pitch": 0,
         "zoom": 8.987948538977635
        },
        "margin": {
         "t": 60
        },
        "template": {
         "data": {
          "bar": [
           {
            "error_x": {
             "color": "#2a3f5f"
            },
            "error_y": {
             "color": "#2a3f5f"
            },
            "marker": {
             "line": {
              "color": "#E5ECF6",
              "width": 0.5
             },
             "pattern": {
              "fillmode": "overlay",
              "size": 10,
              "solidity": 0.2
             }
            },
            "type": "bar"
           }
          ],
          "barpolar": [
           {
            "marker": {
             "line": {
              "color": "#E5ECF6",
              "width": 0.5
             },
             "pattern": {
              "fillmode": "overlay",
              "size": 10,
              "solidity": 0.2
             }
            },
            "type": "barpolar"
           }
          ],
          "carpet": [
           {
            "aaxis": {
             "endlinecolor": "#2a3f5f",
             "gridcolor": "white",
             "linecolor": "white",
             "minorgridcolor": "white",
             "startlinecolor": "#2a3f5f"
            },
            "baxis": {
             "endlinecolor": "#2a3f5f",
             "gridcolor": "white",
             "linecolor": "white",
             "minorgridcolor": "white",
             "startlinecolor": "#2a3f5f"
            },
            "type": "carpet"
           }
          ],
          "choropleth": [
           {
            "colorbar": {
             "outlinewidth": 0,
             "ticks": ""
            },
            "type": "choropleth"
           }
          ],
          "contour": [
           {
            "colorbar": {
             "outlinewidth": 0,
             "ticks": ""
            },
            "colorscale": [
             [
              0,
              "#0d0887"
             ],
             [
              0.1111111111111111,
              "#46039f"
             ],
             [
              0.2222222222222222,
              "#7201a8"
             ],
             [
              0.3333333333333333,
              "#9c179e"
             ],
             [
              0.4444444444444444,
              "#bd3786"
             ],
             [
              0.5555555555555556,
              "#d8576b"
             ],
             [
              0.6666666666666666,
              "#ed7953"
             ],
             [
              0.7777777777777778,
              "#fb9f3a"
             ],
             [
              0.8888888888888888,
              "#fdca26"
             ],
             [
              1,
              "#f0f921"
             ]
            ],
            "type": "contour"
           }
          ],
          "contourcarpet": [
           {
            "colorbar": {
             "outlinewidth": 0,
             "ticks": ""
            },
            "type": "contourcarpet"
           }
          ],
          "heatmap": [
           {
            "colorbar": {
             "outlinewidth": 0,
             "ticks": ""
            },
            "colorscale": [
             [
              0,
              "#0d0887"
             ],
             [
              0.1111111111111111,
              "#46039f"
             ],
             [
              0.2222222222222222,
              "#7201a8"
             ],
             [
              0.3333333333333333,
              "#9c179e"
             ],
             [
              0.4444444444444444,
              "#bd3786"
             ],
             [
              0.5555555555555556,
              "#d8576b"
             ],
             [
              0.6666666666666666,
              "#ed7953"
             ],
             [
              0.7777777777777778,
              "#fb9f3a"
             ],
             [
              0.8888888888888888,
              "#fdca26"
             ],
             [
              1,
              "#f0f921"
             ]
            ],
            "type": "heatmap"
           }
          ],
          "heatmapgl": [
           {
            "colorbar": {
             "outlinewidth": 0,
             "ticks": ""
            },
            "colorscale": [
             [
              0,
              "#0d0887"
             ],
             [
              0.1111111111111111,
              "#46039f"
             ],
             [
              0.2222222222222222,
              "#7201a8"
             ],
             [
              0.3333333333333333,
              "#9c179e"
             ],
             [
              0.4444444444444444,
              "#bd3786"
             ],
             [
              0.5555555555555556,
              "#d8576b"
             ],
             [
              0.6666666666666666,
              "#ed7953"
             ],
             [
              0.7777777777777778,
              "#fb9f3a"
             ],
             [
              0.8888888888888888,
              "#fdca26"
             ],
             [
              1,
              "#f0f921"
             ]
            ],
            "type": "heatmapgl"
           }
          ],
          "histogram": [
           {
            "marker": {
             "pattern": {
              "fillmode": "overlay",
              "size": 10,
              "solidity": 0.2
             }
            },
            "type": "histogram"
           }
          ],
          "histogram2d": [
           {
            "colorbar": {
             "outlinewidth": 0,
             "ticks": ""
            },
            "colorscale": [
             [
              0,
              "#0d0887"
             ],
             [
              0.1111111111111111,
              "#46039f"
             ],
             [
              0.2222222222222222,
              "#7201a8"
             ],
             [
              0.3333333333333333,
              "#9c179e"
             ],
             [
              0.4444444444444444,
              "#bd3786"
             ],
             [
              0.5555555555555556,
              "#d8576b"
             ],
             [
              0.6666666666666666,
              "#ed7953"
             ],
             [
              0.7777777777777778,
              "#fb9f3a"
             ],
             [
              0.8888888888888888,
              "#fdca26"
             ],
             [
              1,
              "#f0f921"
             ]
            ],
            "type": "histogram2d"
           }
          ],
          "histogram2dcontour": [
           {
            "colorbar": {
             "outlinewidth": 0,
             "ticks": ""
            },
            "colorscale": [
             [
              0,
              "#0d0887"
             ],
             [
              0.1111111111111111,
              "#46039f"
             ],
             [
              0.2222222222222222,
              "#7201a8"
             ],
             [
              0.3333333333333333,
              "#9c179e"
             ],
             [
              0.4444444444444444,
              "#bd3786"
             ],
             [
              0.5555555555555556,
              "#d8576b"
             ],
             [
              0.6666666666666666,
              "#ed7953"
             ],
             [
              0.7777777777777778,
              "#fb9f3a"
             ],
             [
              0.8888888888888888,
              "#fdca26"
             ],
             [
              1,
              "#f0f921"
             ]
            ],
            "type": "histogram2dcontour"
           }
          ],
          "mesh3d": [
           {
            "colorbar": {
             "outlinewidth": 0,
             "ticks": ""
            },
            "type": "mesh3d"
           }
          ],
          "parcoords": [
           {
            "line": {
             "colorbar": {
              "outlinewidth": 0,
              "ticks": ""
             }
            },
            "type": "parcoords"
           }
          ],
          "pie": [
           {
            "automargin": true,
            "type": "pie"
           }
          ],
          "scatter": [
           {
            "marker": {
             "colorbar": {
              "outlinewidth": 0,
              "ticks": ""
             }
            },
            "type": "scatter"
           }
          ],
          "scatter3d": [
           {
            "line": {
             "colorbar": {
              "outlinewidth": 0,
              "ticks": ""
             }
            },
            "marker": {
             "colorbar": {
              "outlinewidth": 0,
              "ticks": ""
             }
            },
            "type": "scatter3d"
           }
          ],
          "scattercarpet": [
           {
            "marker": {
             "colorbar": {
              "outlinewidth": 0,
              "ticks": ""
             }
            },
            "type": "scattercarpet"
           }
          ],
          "scattergeo": [
           {
            "marker": {
             "colorbar": {
              "outlinewidth": 0,
              "ticks": ""
             }
            },
            "type": "scattergeo"
           }
          ],
          "scattergl": [
           {
            "marker": {
             "colorbar": {
              "outlinewidth": 0,
              "ticks": ""
             }
            },
            "type": "scattergl"
           }
          ],
          "scattermapbox": [
           {
            "marker": {
             "colorbar": {
              "outlinewidth": 0,
              "ticks": ""
             }
            },
            "type": "scattermapbox"
           }
          ],
          "scatterpolar": [
           {
            "marker": {
             "colorbar": {
              "outlinewidth": 0,
              "ticks": ""
             }
            },
            "type": "scatterpolar"
           }
          ],
          "scatterpolargl": [
           {
            "marker": {
             "colorbar": {
              "outlinewidth": 0,
              "ticks": ""
             }
            },
            "type": "scatterpolargl"
           }
          ],
          "scatterternary": [
           {
            "marker": {
             "colorbar": {
              "outlinewidth": 0,
              "ticks": ""
             }
            },
            "type": "scatterternary"
           }
          ],
          "surface": [
           {
            "colorbar": {
             "outlinewidth": 0,
             "ticks": ""
            },
            "colorscale": [
             [
              0,
              "#0d0887"
             ],
             [
              0.1111111111111111,
              "#46039f"
             ],
             [
              0.2222222222222222,
              "#7201a8"
             ],
             [
              0.3333333333333333,
              "#9c179e"
             ],
             [
              0.4444444444444444,
              "#bd3786"
             ],
             [
              0.5555555555555556,
              "#d8576b"
             ],
             [
              0.6666666666666666,
              "#ed7953"
             ],
             [
              0.7777777777777778,
              "#fb9f3a"
             ],
             [
              0.8888888888888888,
              "#fdca26"
             ],
             [
              1,
              "#f0f921"
             ]
            ],
            "type": "surface"
           }
          ],
          "table": [
           {
            "cells": {
             "fill": {
              "color": "#EBF0F8"
             },
             "line": {
              "color": "white"
             }
            },
            "header": {
             "fill": {
              "color": "#C8D4E3"
             },
             "line": {
              "color": "white"
             }
            },
            "type": "table"
           }
          ]
         },
         "layout": {
          "annotationdefaults": {
           "arrowcolor": "#2a3f5f",
           "arrowhead": 0,
           "arrowwidth": 1
          },
          "autotypenumbers": "strict",
          "coloraxis": {
           "colorbar": {
            "outlinewidth": 0,
            "ticks": ""
           }
          },
          "colorscale": {
           "diverging": [
            [
             0,
             "#8e0152"
            ],
            [
             0.1,
             "#c51b7d"
            ],
            [
             0.2,
             "#de77ae"
            ],
            [
             0.3,
             "#f1b6da"
            ],
            [
             0.4,
             "#fde0ef"
            ],
            [
             0.5,
             "#f7f7f7"
            ],
            [
             0.6,
             "#e6f5d0"
            ],
            [
             0.7,
             "#b8e186"
            ],
            [
             0.8,
             "#7fbc41"
            ],
            [
             0.9,
             "#4d9221"
            ],
            [
             1,
             "#276419"
            ]
           ],
           "sequential": [
            [
             0,
             "#0d0887"
            ],
            [
             0.1111111111111111,
             "#46039f"
            ],
            [
             0.2222222222222222,
             "#7201a8"
            ],
            [
             0.3333333333333333,
             "#9c179e"
            ],
            [
             0.4444444444444444,
             "#bd3786"
            ],
            [
             0.5555555555555556,
             "#d8576b"
            ],
            [
             0.6666666666666666,
             "#ed7953"
            ],
            [
             0.7777777777777778,
             "#fb9f3a"
            ],
            [
             0.8888888888888888,
             "#fdca26"
            ],
            [
             1,
             "#f0f921"
            ]
           ],
           "sequentialminus": [
            [
             0,
             "#0d0887"
            ],
            [
             0.1111111111111111,
             "#46039f"
            ],
            [
             0.2222222222222222,
             "#7201a8"
            ],
            [
             0.3333333333333333,
             "#9c179e"
            ],
            [
             0.4444444444444444,
             "#bd3786"
            ],
            [
             0.5555555555555556,
             "#d8576b"
            ],
            [
             0.6666666666666666,
             "#ed7953"
            ],
            [
             0.7777777777777778,
             "#fb9f3a"
            ],
            [
             0.8888888888888888,
             "#fdca26"
            ],
            [
             1,
             "#f0f921"
            ]
           ]
          },
          "colorway": [
           "#636efa",
           "#EF553B",
           "#00cc96",
           "#ab63fa",
           "#FFA15A",
           "#19d3f3",
           "#FF6692",
           "#B6E880",
           "#FF97FF",
           "#FECB52"
          ],
          "font": {
           "color": "#2a3f5f"
          },
          "geo": {
           "bgcolor": "white",
           "lakecolor": "white",
           "landcolor": "#E5ECF6",
           "showlakes": true,
           "showland": true,
           "subunitcolor": "white"
          },
          "hoverlabel": {
           "align": "left"
          },
          "hovermode": "closest",
          "mapbox": {
           "style": "light"
          },
          "paper_bgcolor": "white",
          "plot_bgcolor": "#E5ECF6",
          "polar": {
           "angularaxis": {
            "gridcolor": "white",
            "linecolor": "white",
            "ticks": ""
           },
           "bgcolor": "#E5ECF6",
           "radialaxis": {
            "gridcolor": "white",
            "linecolor": "white",
            "ticks": ""
           }
          },
          "scene": {
           "xaxis": {
            "backgroundcolor": "#E5ECF6",
            "gridcolor": "white",
            "gridwidth": 2,
            "linecolor": "white",
            "showbackground": true,
            "ticks": "",
            "zerolinecolor": "white"
           },
           "yaxis": {
            "backgroundcolor": "#E5ECF6",
            "gridcolor": "white",
            "gridwidth": 2,
            "linecolor": "white",
            "showbackground": true,
            "ticks": "",
            "zerolinecolor": "white"
           },
           "zaxis": {
            "backgroundcolor": "#E5ECF6",
            "gridcolor": "white",
            "gridwidth": 2,
            "linecolor": "white",
            "showbackground": true,
            "ticks": "",
            "zerolinecolor": "white"
           }
          },
          "shapedefaults": {
           "line": {
            "color": "#2a3f5f"
           }
          },
          "ternary": {
           "aaxis": {
            "gridcolor": "white",
            "linecolor": "white",
            "ticks": ""
           },
           "baxis": {
            "gridcolor": "white",
            "linecolor": "white",
            "ticks": ""
           },
           "bgcolor": "#E5ECF6",
           "caxis": {
            "gridcolor": "white",
            "linecolor": "white",
            "ticks": ""
           }
          },
          "title": {
           "x": 0.05
          },
          "xaxis": {
           "automargin": true,
           "gridcolor": "white",
           "linecolor": "white",
           "ticks": "",
           "title": {
            "standoff": 15
           },
           "zerolinecolor": "white",
           "zerolinewidth": 2
          },
          "yaxis": {
           "automargin": true,
           "gridcolor": "white",
           "linecolor": "white",
           "ticks": "",
           "title": {
            "standoff": 15
           },
           "zerolinecolor": "white",
           "zerolinewidth": 2
          }
         }
        }
       }
      },
      "image/png": "[encoded data removed]",
      "text/html": [
       "<div>                            <div id=\"e29dd072-ff4c-48c0-9725-2a6e551b7721\" class=\"plotly-graph-div\" style=\"height:525px; width:800px;\"></div>            <script type=\"text/javascript\">                require([\"plotly\"], function(Plotly) {                    window.PLOTLYENV=window.PLOTLYENV || {};                                    if (document.getElementById(\"e29dd072-ff4c-48c0-9725-2a6e551b7721\")) {                    Plotly.newPlot(                        \"e29dd072-ff4c-48c0-9725-2a6e551b7721\",                        [{\"hovertemplate\":\"sale_price_sqr_foot=%{marker.size}<br>Lat=%{lat}<br>Lon=%{lon}<br>gross_rent=%{marker.color}<extra></extra>\",\"lat\":[37.791012,37.779598,37.73467,37.72874,37.72863,37.76816,37.77789,37.74961,37.75331,37.78553,37.79298,37.7228,37.72863,37.79101,37.76964,37.75554,37.72874,37.79101,37.79101,37.75706,37.72863,37.757912,37.76525,37.76525,37.72551,37.721161,37.72116,37.75416,37.74961,37.769112,37.74961,37.78553,37.80152,37.7789,37.79298,37.79972,37.71993,37.75331,37.73415,37.78323,37.75184,37.72863,37.79298,37.75331,37.80055,37.80055,37.71993,37.7228,37.7517,37.76911,37.74961,37.79298,37.72838,37.74961,37.76355,37.73467,37.73196,37.78553,37.79298,37.73467,37.78323,37.79101,37.73415,37.80055,37.753311,37.79101,37.77951,37.72874,37.74026,37.79298,37.7347,37.73415,37.79298],\"legendgroup\":\"\",\"lon\":[-122.4021,-122.443451,-122.40106,-122.41098,-122.44305,-122.43933,-122.44517,-122.48999,-122.44703,-122.456,-122.43579,-122.43869,-122.44305,-122.4021,-122.42611,-122.43779,-122.41098,-122.4021,-122.4021,-122.45509,-122.44305,-122.46402,-122.43596,-122.43596,-122.37178,-122.487068,-122.48707,-122.41947,-122.48999,-122.483566,-122.48997,-122.456,-122.45457,-122.45496,-122.43579,-122.46689,-122.46595,-122.44703,-122.457,-122.40065,-122.42522,-122.44305,-122.43579,-122.44703,-122.40433,-122.40433,-122.46595,-122.43869,-122.446,-122.48357,-122.48999,-122.43579,-122.47851,-122.48999,-122.45765,-122.40106,-122.38324,-122.456,-122.43579,-122.40106,-122.40065,-122.4021,-122.457,-122.40433,-122.447029,-122.4021,-122.42022,-122.41098,-122.46388,-122.43579,-122.456854,-122.457,-122.39636],\"marker\":{\"color\":[2817.285714285714,3031.8333333333335,2318.4,3739.0,3080.3333333333335,2698.8333333333335,2817.285714285714,2817.285714285714,2250.5,2472.0,2817.285714285714,2698.8333333333335,2016.0,2817.285714285714,2780.25,2817.285714285714,3031.8333333333335,2817.285714285714,2472.0,1781.5,2899.5,2601.4,2817.285714285714,2817.285714285714,2489.0,2509.0,2960.0,2817.285714285714,3224.0,2817.285714285714,2817.285714285714,2817.285714285714,2555.1666666666665,2555.1666666666665,2817.285714285714,2817.285714285714,3414.0,2647.5,2155.25,2663.6666666666665,2555.1666666666665,3173.4,2817.285714285714,2817.285714285714,2990.8,2818.4,2434.0,2995.75,2817.285714285714,2817.285714285714,2817.285714285714,2817.285714285714,2817.285714285714,2555.1666666666665,2817.285714285714,2318.4,2817.285714285714,2817.285714285714,2817.285714285714,3528.0,2099.0,2817.285714285714,2899.5,2817.285714285714,2817.285714285714,2555.1666666666665,2817.285714285714,3657.0,2515.5,2555.1666666666665,2250.5,3959.0,2555.1666666666665],\"coloraxis\":\"coloraxis\",\"size\":[366.02071153227644,373.382197826477,204.58862288246596,590.7928388746803,576.7464881132382,452.6805909308441,394.42239878005887,423.68792770158234,487.2448860262576,587.5390673661739,665.9640415783227,303.0041844084943,434.9917394452212,391.43437776742576,502.59915555623616,642.2486706357391,388.7659270023075,391.36253308010487,455.83621223779153,321.84083657398736,623.8261775374349,639.3935574881156,449.5447622856192,355.93282794805776,170.62491987132685,367.8951440852775,384.7979281346047,397.67371473613446,519.3856038526768,378.5943139613646,413.66751546215943,529.3841850673389,409.95435219297514,478.2285530213679,539.237968878326,583.7492694814548,788.8448175872469,550.5103482917151,779.810842264425,566.1922135483312,418.9156225067234,523.4662013248023,458.2040944846015,542.4429128151736,411.646875881678,498.2697550078768,330.0973846552545,242.37095202049665,485.0270126111035,473.90077331796317,394.21903228550775,689.5558168113664,373.73285637176303,336.172661037069,632.740453508577,327.1139253464728,662.0136128276529,675.3502120510033,608.9832172374425,170.2925485152069,650.1244791945729,570.2714266991686,528.3183317138463,676.5065775293257,469.39862649935156,903.9932576720645,404.1501801622257,301.46617997450267,498.4884848295011,307.5622009799607,533.7039354359513,687.0875745178322,576.709848378276],\"sizemode\":\"area\",\"sizeref\":2.259983144180161},\"mode\":\"markers\",\"name\":\"\",\"showlegend\":false,\"subplot\":\"mapbox\",\"type\":\"scattermapbox\"}],                        {\"template\":{\"data\":{\"bar\":[{\"error_x\":{\"color\":\"#2a3f5f\"},\"error_y\":{\"color\":\"#2a3f5f\"},\"marker\":{\"line\":{\"color\":\"#E5ECF6\",\"width\":0.5},\"pattern\":{\"fillmode\":\"overlay\",\"size\":10,\"solidity\":0.2}},\"type\":\"bar\"}],\"barpolar\":[{\"marker\":{\"line\":{\"color\":\"#E5ECF6\",\"width\":0.5},\"pattern\":{\"fillmode\":\"overlay\",\"size\":10,\"solidity\":0.2}},\"type\":\"barpolar\"}],\"carpet\":[{\"aaxis\":{\"endlinecolor\":\"#2a3f5f\",\"gridcolor\":\"white\",\"linecolor\":\"white\",\"minorgridcolor\":\"white\",\"startlinecolor\":\"#2a3f5f\"},\"baxis\":{\"endlinecolor\":\"#2a3f5f\",\"gridcolor\":\"white\",\"linecolor\":\"white\",\"minorgridcolor\":\"white\",\"startlinecolor\":\"#2a3f5f\"},\"type\":\"carpet\"}],\"choropleth\":[{\"colorbar\":{\"outlinewidth\":0,\"ticks\":\"\"},\"type\":\"choropleth\"}],\"contour\":[{\"colorbar\":{\"outlinewidth\":0,\"ticks\":\"\"},\"colorscale\":[[0.0,\"#0d0887\"],[0.1111111111111111,\"#46039f\"],[0.2222222222222222,\"#7201a8\"],[0.3333333333333333,\"#9c179e\"],[0.4444444444444444,\"#bd3786\"],[0.5555555555555556,\"#d8576b\"],[0.6666666666666666,\"#ed7953\"],[0.7777777777777778,\"#fb9f3a\"],[0.8888888888888888,\"#fdca26\"],[1.0,\"#f0f921\"]],\"type\":\"contour\"}],\"contourcarpet\":[{\"colorbar\":{\"outlinewidth\":0,\"ticks\":\"\"},\"type\":\"contourcarpet\"}],\"heatmap\":[{\"colorbar\":{\"outlinewidth\":0,\"ticks\":\"\"},\"colorscale\":[[0.0,\"#0d0887\"],[0.1111111111111111,\"#46039f\"],[0.2222222222222222,\"#7201a8\"],[0.3333333333333333,\"#9c179e\"],[0.4444444444444444,\"#bd3786\"],[0.5555555555555556,\"#d8576b\"],[0.6666666666666666,\"#ed7953\"],[0.7777777777777778,\"#fb9f3a\"],[0.8888888888888888,\"#fdca26\"],[1.0,\"#f0f921\"]],\"type\":\"heatmap\"}],\"heatmapgl\":[{\"colorbar\":{\"outlinewidth\":0,\"ticks\":\"\"},\"colorscale\":[[0.0,\"#0d0887\"],[0.1111111111111111,\"#46039f\"],[0.2222222222222222,\"#7201a8\"],[0.3333333333333333,\"#9c179e\"],[0.4444444444444444,\"#bd3786\"],[0.5555555555555556,\"#d8576b\"],[0.6666666666666666,\"#ed7953\"],[0.7777777777777778,\"#fb9f3a\"],[0.8888888888888888,\"#fdca26\"],[1.0,\"#f0f921\"]],\"type\":\"heatmapgl\"}],\"histogram\":[{\"marker\":{\"pattern\":{\"fillmode\":\"overlay\",\"size\":10,\"solidity\":0.2}},\"type\":\"histogram\"}],\"histogram2d\":[{\"colorbar\":{\"outlinewidth\":0,\"ticks\":\"\"},\"colorscale\":[[0.0,\"#0d0887\"],[0.1111111111111111,\"#46039f\"],[0.2222222222222222,\"#7201a8\"],[0.3333333333333333,\"#9c179e\"],[0.4444444444444444,\"#bd3786\"],[0.5555555555555556,\"#d8576b\"],[0.6666666666666666,\"#ed7953\"],[0.7777777777777778,\"#fb9f3a\"],[0.8888888888888888,\"#fdca26\"],[1.0,\"#f0f921\"]],\"type\":\"histogram2d\"}],\"histogram2dcontour\":[{\"colorbar\":{\"outlinewidth\":0,\"ticks\":\"\"},\"colorscale\":[[0.0,\"#0d0887\"],[0.1111111111111111,\"#46039f\"],[0.2222222222222222,\"#7201a8\"],[0.3333333333333333,\"#9c179e\"],[0.4444444444444444,\"#bd3786\"],[0.5555555555555556,\"#d8576b\"],[0.6666666666666666,\"#ed7953\"],[0.7777777777777778,\"#fb9f3a\"],[0.8888888888888888,\"#fdca26\"],[1.0,\"#f0f921\"]],\"type\":\"histogram2dcontour\"}],\"mesh3d\":[{\"colorbar\":{\"outlinewidth\":0,\"ticks\":\"\"},\"type\":\"mesh3d\"}],\"parcoords\":[{\"line\":{\"colorbar\":{\"outlinewidth\":0,\"ticks\":\"\"}},\"type\":\"parcoords\"}],\"pie\":[{\"automargin\":true,\"type\":\"pie\"}],\"scatter\":[{\"marker\":{\"colorbar\":{\"outlinewidth\":0,\"ticks\":\"\"}},\"type\":\"scatter\"}],\"scatter3d\":[{\"line\":{\"colorbar\":{\"outlinewidth\":0,\"ticks\":\"\"}},\"marker\":{\"colorbar\":{\"outlinewidth\":0,\"ticks\":\"\"}},\"type\":\"scatter3d\"}],\"scattercarpet\":[{\"marker\":{\"colorbar\":{\"outlinewidth\":0,\"ticks\":\"\"}},\"type\":\"scattercarpet\"}],\"scattergeo\":[{\"marker\":{\"colorbar\":{\"outlinewidth\":0,\"ticks\":\"\"}},\"type\":\"scattergeo\"}],\"scattergl\":[{\"marker\":{\"colorbar\":{\"outlinewidth\":0,\"ticks\":\"\"}},\"type\":\"scattergl\"}],\"scattermapbox\":[{\"marker\":{\"colorbar\":{\"outlinewidth\":0,\"ticks\":\"\"}},\"type\":\"scattermapbox\"}],\"scatterpolar\":[{\"marker\":{\"colorbar\":{\"outlinewidth\":0,\"ticks\":\"\"}},\"type\":\"scatterpolar\"}],\"scatterpolargl\":[{\"marker\":{\"colorbar\":{\"outlinewidth\":0,\"ticks\":\"\"}},\"type\":\"scatterpolargl\"}],\"scatterternary\":[{\"marker\":{\"colorbar\":{\"outlinewidth\":0,\"ticks\":\"\"}},\"type\":\"scatterternary\"}],\"surface\":[{\"colorbar\":{\"outlinewidth\":0,\"ticks\":\"\"},\"colorscale\":[[0.0,\"#0d0887\"],[0.1111111111111111,\"#46039f\"],[0.2222222222222222,\"#7201a8\"],[0.3333333333333333,\"#9c179e\"],[0.4444444444444444,\"#bd3786\"],[0.5555555555555556,\"#d8576b\"],[0.6666666666666666,\"#ed7953\"],[0.7777777777777778,\"#fb9f3a\"],[0.8888888888888888,\"#fdca26\"],[1.0,\"#f0f921\"]],\"type\":\"surface\"}],\"table\":[{\"cells\":{\"fill\":{\"color\":\"#EBF0F8\"},\"line\":{\"color\":\"white\"}},\"header\":{\"fill\":{\"color\":\"#C8D4E3\"},\"line\":{\"color\":\"white\"}},\"type\":\"table\"}]},\"layout\":{\"annotationdefaults\":{\"arrowcolor\":\"#2a3f5f\",\"arrowhead\":0,\"arrowwidth\":1},\"autotypenumbers\":\"strict\",\"coloraxis\":{\"colorbar\":{\"outlinewidth\":0,\"ticks\":\"\"}},\"colorscale\":{\"diverging\":[[0,\"#8e0152\"],[0.1,\"#c51b7d\"],[0.2,\"#de77ae\"],[0.3,\"#f1b6da\"],[0.4,\"#fde0ef\"],[0.5,\"#f7f7f7\"],[0.6,\"#e6f5d0\"],[0.7,\"#b8e186\"],[0.8,\"#7fbc41\"],[0.9,\"#4d9221\"],[1,\"#276419\"]],\"sequential\":[[0.0,\"#0d0887\"],[0.1111111111111111,\"#46039f\"],[0.2222222222222222,\"#7201a8\"],[0.3333333333333333,\"#9c179e\"],[0.4444444444444444,\"#bd3786\"],[0.5555555555555556,\"#d8576b\"],[0.6666666666666666,\"#ed7953\"],[0.7777777777777778,\"#fb9f3a\"],[0.8888888888888888,\"#fdca26\"],[1.0,\"#f0f921\"]],\"sequentialminus\":[[0.0,\"#0d0887\"],[0.1111111111111111,\"#46039f\"],[0.2222222222222222,\"#7201a8\"],[0.3333333333333333,\"#9c179e\"],[0.4444444444444444,\"#bd3786\"],[0.5555555555555556,\"#d8576b\"],[0.6666666666666666,\"#ed7953\"],[0.7777777777777778,\"#fb9f3a\"],[0.8888888888888888,\"#fdca26\"],[1.0,\"#f0f921\"]]},\"colorway\":[\"#636efa\",\"#EF553B\",\"#00cc96\",\"#ab63fa\",\"#FFA15A\",\"#19d3f3\",\"#FF6692\",\"#B6E880\",\"#FF97FF\",\"#FECB52\"],\"font\":{\"color\":\"#2a3f5f\"},\"geo\":{\"bgcolor\":\"white\",\"lakecolor\":\"white\",\"landcolor\":\"#E5ECF6\",\"showlakes\":true,\"showland\":true,\"subunitcolor\":\"white\"},\"hoverlabel\":{\"align\":\"left\"},\"hovermode\":\"closest\",\"mapbox\":{\"style\":\"light\"},\"paper_bgcolor\":\"white\",\"plot_bgcolor\":\"#E5ECF6\",\"polar\":{\"angularaxis\":{\"gridcolor\":\"white\",\"linecolor\":\"white\",\"ticks\":\"\"},\"bgcolor\":\"#E5ECF6\",\"radialaxis\":{\"gridcolor\":\"white\",\"linecolor\":\"white\",\"ticks\":\"\"}},\"scene\":{\"xaxis\":{\"backgroundcolor\":\"#E5ECF6\",\"gridcolor\":\"white\",\"gridwidth\":2,\"linecolor\":\"white\",\"showbackground\":true,\"ticks\":\"\",\"zerolinecolor\":\"white\"},\"yaxis\":{\"backgroundcolor\":\"#E5ECF6\",\"gridcolor\":\"white\",\"gridwidth\":2,\"linecolor\":\"white\",\"showbackground\":true,\"ticks\":\"\",\"zerolinecolor\":\"white\"},\"zaxis\":{\"backgroundcolor\":\"#E5ECF6\",\"gridcolor\":\"white\",\"gridwidth\":2,\"linecolor\":\"white\",\"showbackground\":true,\"ticks\":\"\",\"zerolinecolor\":\"white\"}},\"shapedefaults\":{\"line\":{\"color\":\"#2a3f5f\"}},\"ternary\":{\"aaxis\":{\"gridcolor\":\"white\",\"linecolor\":\"white\",\"ticks\":\"\"},\"baxis\":{\"gridcolor\":\"white\",\"linecolor\":\"white\",\"ticks\":\"\"},\"bgcolor\":\"#E5ECF6\",\"caxis\":{\"gridcolor\":\"white\",\"linecolor\":\"white\",\"ticks\":\"\"}},\"title\":{\"x\":0.05},\"xaxis\":{\"automargin\":true,\"gridcolor\":\"white\",\"linecolor\":\"white\",\"ticks\":\"\",\"title\":{\"standoff\":15},\"zerolinecolor\":\"white\",\"zerolinewidth\":2},\"yaxis\":{\"automargin\":true,\"gridcolor\":\"white\",\"linecolor\":\"white\",\"ticks\":\"\",\"title\":{\"standoff\":15},\"zerolinecolor\":\"white\",\"zerolinewidth\":2}}},\"mapbox\":{\"domain\":{\"x\":[0.0,1.0],\"y\":[0.0,1.0]},\"center\":{\"lat\":37.76019350684932,\"lon\":-122.43912380821916},\"accesstoken\":\"pk.eyJ1Ijoic2hhbmVsazEiLCJhIjoiY2t5aHFqYzJ4MWRrMjMxc2Vuam5rNWNvYiJ9.LYf3_wGf6KNXQ3G6J93ViA\",\"zoom\":11},\"coloraxis\":{\"colorbar\":{\"title\":{\"text\":\"gross_rent\"}},\"colorscale\":[[0.0,\"#000000\"],[0.0625,\"#001f4d\"],[0.125,\"#003786\"],[0.1875,\"#0e58a8\"],[0.25,\"#217eb8\"],[0.3125,\"#30a4ca\"],[0.375,\"#54c8df\"],[0.4375,\"#9be4ef\"],[0.5,\"#e1e9d1\"],[0.5625,\"#f3d573\"],[0.625,\"#e7b000\"],[0.6875,\"#da8200\"],[0.75,\"#c65400\"],[0.8125,\"#ac2301\"],[0.875,\"#820000\"],[0.9375,\"#4c0000\"],[1.0,\"#000000\"]]},\"legend\":{\"tracegroupgap\":0,\"itemsizing\":\"constant\"},\"margin\":{\"t\":60},\"width\":800},                        {\"responsive\": true}                    ).then(function(){\n",
       "                            \n",
       "var gd = document.getElementById('e29dd072-ff4c-48c0-9725-2a6e551b7721');\n",
       "var x = new MutationObserver(function (mutations, observer) {{\n",
       "        var display = window.getComputedStyle(gd).display;\n",
       "        if (!display || display === 'none') {{\n",
       "            console.log([gd, 'removed!']);\n",
       "            Plotly.purge(gd);\n",
       "            observer.disconnect();\n",
       "        }}\n",
       "}});\n",
       "\n",
       "// Listen for the removal of the full notebook cells\n",
       "var notebookContainer = gd.closest('#notebook-container');\n",
       "if (notebookContainer) {{\n",
       "    x.observe(notebookContainer, {childList: true});\n",
       "}}\n",
       "\n",
       "// Listen for the clearing of the current output cell\n",
       "var outputEl = gd.closest('.output');\n",
       "if (outputEl) {{\n",
       "    x.observe(outputEl, {childList: true});\n",
       "}}\n",
       "\n",
       "                        })                };                });            </script>        </div>"
      ]
     },
     "metadata": {},
     "output_type": "display_data"
    }
   ],
   "source": [
    "neighborhood_map().show()"
   ]
  },
  {
   "cell_type": "code",
   "execution_count": 25,
   "metadata": {},
   "outputs": [
    {
     "data": {
      "application/vnd.plotly.v1+json": {
       "config": {
        "plotlyServerURL": "https://plot.ly"
       },
       "data": [
        {
         "dimensions": [
          {
           "label": "neighborhood",
           "values": [
            "Union Square District",
            "Merced Heights",
            "Miraloma Park",
            "Pacific Heights",
            "Westwood Park",
            "Telegraph Hill",
            "Presidio Heights",
            "Cow Hollow",
            "Potrero Hill",
            "South Beach"
           ]
          },
          {
           "label": "sale_price_sqr_foot",
           "values": [
            903.9932576720645,
            788.8448175872469,
            779.810842264425,
            689.5558168113664,
            687.0875745178322,
            676.5065775293257,
            675.3502120510033,
            665.9640415783227,
            662.0136128276529,
            650.1244791945729
           ]
          },
          {
           "label": "housing_units",
           "values": [
            377427.5,
            380348,
            375967.25,
            378401,
            382295,
            378401,
            378401,
            378401,
            378401,
            375805
           ]
          },
          {
           "label": "gross_rent",
           "values": [
            2555.1666666666665,
            3414,
            2155.25,
            2817.285714285714,
            3959,
            2817.285714285714,
            2817.285714285714,
            2817.285714285714,
            2817.285714285714,
            2099
           ]
          }
         ],
         "domain": {
          "x": [
           0,
           1
          ],
          "y": [
           0,
           1
          ]
         },
         "line": {
          "color": [
           903.9932576720645,
           788.8448175872469,
           779.810842264425,
           689.5558168113664,
           687.0875745178322,
           676.5065775293257,
           675.3502120510033,
           665.9640415783227,
           662.0136128276529,
           650.1244791945729
          ],
          "coloraxis": "coloraxis"
         },
         "name": "",
         "type": "parcats"
        }
       ],
       "layout": {
        "autosize": true,
        "coloraxis": {
         "colorbar": {
          "title": {
           "text": "sale_price_sqr_foot"
          }
         },
         "colorscale": [
          [
           0,
           "#000004"
          ],
          [
           0.1111111111111111,
           "#1b0c41"
          ],
          [
           0.2222222222222222,
           "#4a0c6b"
          ],
          [
           0.3333333333333333,
           "#781c6d"
          ],
          [
           0.4444444444444444,
           "#a52c60"
          ],
          [
           0.5555555555555556,
           "#cf4446"
          ],
          [
           0.6666666666666666,
           "#ed6925"
          ],
          [
           0.7777777777777778,
           "#fb9b06"
          ],
          [
           0.8888888888888888,
           "#f7d13d"
          ],
          [
           1,
           "#fcffa4"
          ]
         ]
        },
        "legend": {
         "tracegroupgap": 0
        },
        "margin": {
         "t": 60
        },
        "template": {
         "data": {
          "bar": [
           {
            "error_x": {
             "color": "#2a3f5f"
            },
            "error_y": {
             "color": "#2a3f5f"
            },
            "marker": {
             "line": {
              "color": "#E5ECF6",
              "width": 0.5
             },
             "pattern": {
              "fillmode": "overlay",
              "size": 10,
              "solidity": 0.2
             }
            },
            "type": "bar"
           }
          ],
          "barpolar": [
           {
            "marker": {
             "line": {
              "color": "#E5ECF6",
              "width": 0.5
             },
             "pattern": {
              "fillmode": "overlay",
              "size": 10,
              "solidity": 0.2
             }
            },
            "type": "barpolar"
           }
          ],
          "carpet": [
           {
            "aaxis": {
             "endlinecolor": "#2a3f5f",
             "gridcolor": "white",
             "linecolor": "white",
             "minorgridcolor": "white",
             "startlinecolor": "#2a3f5f"
            },
            "baxis": {
             "endlinecolor": "#2a3f5f",
             "gridcolor": "white",
             "linecolor": "white",
             "minorgridcolor": "white",
             "startlinecolor": "#2a3f5f"
            },
            "type": "carpet"
           }
          ],
          "choropleth": [
           {
            "colorbar": {
             "outlinewidth": 0,
             "ticks": ""
            },
            "type": "choropleth"
           }
          ],
          "contour": [
           {
            "colorbar": {
             "outlinewidth": 0,
             "ticks": ""
            },
            "colorscale": [
             [
              0,
              "#0d0887"
             ],
             [
              0.1111111111111111,
              "#46039f"
             ],
             [
              0.2222222222222222,
              "#7201a8"
             ],
             [
              0.3333333333333333,
              "#9c179e"
             ],
             [
              0.4444444444444444,
              "#bd3786"
             ],
             [
              0.5555555555555556,
              "#d8576b"
             ],
             [
              0.6666666666666666,
              "#ed7953"
             ],
             [
              0.7777777777777778,
              "#fb9f3a"
             ],
             [
              0.8888888888888888,
              "#fdca26"
             ],
             [
              1,
              "#f0f921"
             ]
            ],
            "type": "contour"
           }
          ],
          "contourcarpet": [
           {
            "colorbar": {
             "outlinewidth": 0,
             "ticks": ""
            },
            "type": "contourcarpet"
           }
          ],
          "heatmap": [
           {
            "colorbar": {
             "outlinewidth": 0,
             "ticks": ""
            },
            "colorscale": [
             [
              0,
              "#0d0887"
             ],
             [
              0.1111111111111111,
              "#46039f"
             ],
             [
              0.2222222222222222,
              "#7201a8"
             ],
             [
              0.3333333333333333,
              "#9c179e"
             ],
             [
              0.4444444444444444,
              "#bd3786"
             ],
             [
              0.5555555555555556,
              "#d8576b"
             ],
             [
              0.6666666666666666,
              "#ed7953"
             ],
             [
              0.7777777777777778,
              "#fb9f3a"
             ],
             [
              0.8888888888888888,
              "#fdca26"
             ],
             [
              1,
              "#f0f921"
             ]
            ],
            "type": "heatmap"
           }
          ],
          "heatmapgl": [
           {
            "colorbar": {
             "outlinewidth": 0,
             "ticks": ""
            },
            "colorscale": [
             [
              0,
              "#0d0887"
             ],
             [
              0.1111111111111111,
              "#46039f"
             ],
             [
              0.2222222222222222,
              "#7201a8"
             ],
             [
              0.3333333333333333,
              "#9c179e"
             ],
             [
              0.4444444444444444,
              "#bd3786"
             ],
             [
              0.5555555555555556,
              "#d8576b"
             ],
             [
              0.6666666666666666,
              "#ed7953"
             ],
             [
              0.7777777777777778,
              "#fb9f3a"
             ],
             [
              0.8888888888888888,
              "#fdca26"
             ],
             [
              1,
              "#f0f921"
             ]
            ],
            "type": "heatmapgl"
           }
          ],
          "histogram": [
           {
            "marker": {
             "pattern": {
              "fillmode": "overlay",
              "size": 10,
              "solidity": 0.2
             }
            },
            "type": "histogram"
           }
          ],
          "histogram2d": [
           {
            "colorbar": {
             "outlinewidth": 0,
             "ticks": ""
            },
            "colorscale": [
             [
              0,
              "#0d0887"
             ],
             [
              0.1111111111111111,
              "#46039f"
             ],
             [
              0.2222222222222222,
              "#7201a8"
             ],
             [
              0.3333333333333333,
              "#9c179e"
             ],
             [
              0.4444444444444444,
              "#bd3786"
             ],
             [
              0.5555555555555556,
              "#d8576b"
             ],
             [
              0.6666666666666666,
              "#ed7953"
             ],
             [
              0.7777777777777778,
              "#fb9f3a"
             ],
             [
              0.8888888888888888,
              "#fdca26"
             ],
             [
              1,
              "#f0f921"
             ]
            ],
            "type": "histogram2d"
           }
          ],
          "histogram2dcontour": [
           {
            "colorbar": {
             "outlinewidth": 0,
             "ticks": ""
            },
            "colorscale": [
             [
              0,
              "#0d0887"
             ],
             [
              0.1111111111111111,
              "#46039f"
             ],
             [
              0.2222222222222222,
              "#7201a8"
             ],
             [
              0.3333333333333333,
              "#9c179e"
             ],
             [
              0.4444444444444444,
              "#bd3786"
             ],
             [
              0.5555555555555556,
              "#d8576b"
             ],
             [
              0.6666666666666666,
              "#ed7953"
             ],
             [
              0.7777777777777778,
              "#fb9f3a"
             ],
             [
              0.8888888888888888,
              "#fdca26"
             ],
             [
              1,
              "#f0f921"
             ]
            ],
            "type": "histogram2dcontour"
           }
          ],
          "mesh3d": [
           {
            "colorbar": {
             "outlinewidth": 0,
             "ticks": ""
            },
            "type": "mesh3d"
           }
          ],
          "parcoords": [
           {
            "line": {
             "colorbar": {
              "outlinewidth": 0,
              "ticks": ""
             }
            },
            "type": "parcoords"
           }
          ],
          "pie": [
           {
            "automargin": true,
            "type": "pie"
           }
          ],
          "scatter": [
           {
            "marker": {
             "colorbar": {
              "outlinewidth": 0,
              "ticks": ""
             }
            },
            "type": "scatter"
           }
          ],
          "scatter3d": [
           {
            "line": {
             "colorbar": {
              "outlinewidth": 0,
              "ticks": ""
             }
            },
            "marker": {
             "colorbar": {
              "outlinewidth": 0,
              "ticks": ""
             }
            },
            "type": "scatter3d"
           }
          ],
          "scattercarpet": [
           {
            "marker": {
             "colorbar": {
              "outlinewidth": 0,
              "ticks": ""
             }
            },
            "type": "scattercarpet"
           }
          ],
          "scattergeo": [
           {
            "marker": {
             "colorbar": {
              "outlinewidth": 0,
              "ticks": ""
             }
            },
            "type": "scattergeo"
           }
          ],
          "scattergl": [
           {
            "marker": {
             "colorbar": {
              "outlinewidth": 0,
              "ticks": ""
             }
            },
            "type": "scattergl"
           }
          ],
          "scattermapbox": [
           {
            "marker": {
             "colorbar": {
              "outlinewidth": 0,
              "ticks": ""
             }
            },
            "type": "scattermapbox"
           }
          ],
          "scatterpolar": [
           {
            "marker": {
             "colorbar": {
              "outlinewidth": 0,
              "ticks": ""
             }
            },
            "type": "scatterpolar"
           }
          ],
          "scatterpolargl": [
           {
            "marker": {
             "colorbar": {
              "outlinewidth": 0,
              "ticks": ""
             }
            },
            "type": "scatterpolargl"
           }
          ],
          "scatterternary": [
           {
            "marker": {
             "colorbar": {
              "outlinewidth": 0,
              "ticks": ""
             }
            },
            "type": "scatterternary"
           }
          ],
          "surface": [
           {
            "colorbar": {
             "outlinewidth": 0,
             "ticks": ""
            },
            "colorscale": [
             [
              0,
              "#0d0887"
             ],
             [
              0.1111111111111111,
              "#46039f"
             ],
             [
              0.2222222222222222,
              "#7201a8"
             ],
             [
              0.3333333333333333,
              "#9c179e"
             ],
             [
              0.4444444444444444,
              "#bd3786"
             ],
             [
              0.5555555555555556,
              "#d8576b"
             ],
             [
              0.6666666666666666,
              "#ed7953"
             ],
             [
              0.7777777777777778,
              "#fb9f3a"
             ],
             [
              0.8888888888888888,
              "#fdca26"
             ],
             [
              1,
              "#f0f921"
             ]
            ],
            "type": "surface"
           }
          ],
          "table": [
           {
            "cells": {
             "fill": {
              "color": "#EBF0F8"
             },
             "line": {
              "color": "white"
             }
            },
            "header": {
             "fill": {
              "color": "#C8D4E3"
             },
             "line": {
              "color": "white"
             }
            },
            "type": "table"
           }
          ]
         },
         "layout": {
          "annotationdefaults": {
           "arrowcolor": "#2a3f5f",
           "arrowhead": 0,
           "arrowwidth": 1
          },
          "autotypenumbers": "strict",
          "coloraxis": {
           "colorbar": {
            "outlinewidth": 0,
            "ticks": ""
           }
          },
          "colorscale": {
           "diverging": [
            [
             0,
             "#8e0152"
            ],
            [
             0.1,
             "#c51b7d"
            ],
            [
             0.2,
             "#de77ae"
            ],
            [
             0.3,
             "#f1b6da"
            ],
            [
             0.4,
             "#fde0ef"
            ],
            [
             0.5,
             "#f7f7f7"
            ],
            [
             0.6,
             "#e6f5d0"
            ],
            [
             0.7,
             "#b8e186"
            ],
            [
             0.8,
             "#7fbc41"
            ],
            [
             0.9,
             "#4d9221"
            ],
            [
             1,
             "#276419"
            ]
           ],
           "sequential": [
            [
             0,
             "#0d0887"
            ],
            [
             0.1111111111111111,
             "#46039f"
            ],
            [
             0.2222222222222222,
             "#7201a8"
            ],
            [
             0.3333333333333333,
             "#9c179e"
            ],
            [
             0.4444444444444444,
             "#bd3786"
            ],
            [
             0.5555555555555556,
             "#d8576b"
            ],
            [
             0.6666666666666666,
             "#ed7953"
            ],
            [
             0.7777777777777778,
             "#fb9f3a"
            ],
            [
             0.8888888888888888,
             "#fdca26"
            ],
            [
             1,
             "#f0f921"
            ]
           ],
           "sequentialminus": [
            [
             0,
             "#0d0887"
            ],
            [
             0.1111111111111111,
             "#46039f"
            ],
            [
             0.2222222222222222,
             "#7201a8"
            ],
            [
             0.3333333333333333,
             "#9c179e"
            ],
            [
             0.4444444444444444,
             "#bd3786"
            ],
            [
             0.5555555555555556,
             "#d8576b"
            ],
            [
             0.6666666666666666,
             "#ed7953"
            ],
            [
             0.7777777777777778,
             "#fb9f3a"
            ],
            [
             0.8888888888888888,
             "#fdca26"
            ],
            [
             1,
             "#f0f921"
            ]
           ]
          },
          "colorway": [
           "#636efa",
           "#EF553B",
           "#00cc96",
           "#ab63fa",
           "#FFA15A",
           "#19d3f3",
           "#FF6692",
           "#B6E880",
           "#FF97FF",
           "#FECB52"
          ],
          "font": {
           "color": "#2a3f5f"
          },
          "geo": {
           "bgcolor": "white",
           "lakecolor": "white",
           "landcolor": "#E5ECF6",
           "showlakes": true,
           "showland": true,
           "subunitcolor": "white"
          },
          "hoverlabel": {
           "align": "left"
          },
          "hovermode": "closest",
          "mapbox": {
           "style": "light"
          },
          "paper_bgcolor": "white",
          "plot_bgcolor": "#E5ECF6",
          "polar": {
           "angularaxis": {
            "gridcolor": "white",
            "linecolor": "white",
            "ticks": ""
           },
           "bgcolor": "#E5ECF6",
           "radialaxis": {
            "gridcolor": "white",
            "linecolor": "white",
            "ticks": ""
           }
          },
          "scene": {
           "xaxis": {
            "backgroundcolor": "#E5ECF6",
            "gridcolor": "white",
            "gridwidth": 2,
            "linecolor": "white",
            "showbackground": true,
            "ticks": "",
            "zerolinecolor": "white"
           },
           "yaxis": {
            "backgroundcolor": "#E5ECF6",
            "gridcolor": "white",
            "gridwidth": 2,
            "linecolor": "white",
            "showbackground": true,
            "ticks": "",
            "zerolinecolor": "white"
           },
           "zaxis": {
            "backgroundcolor": "#E5ECF6",
            "gridcolor": "white",
            "gridwidth": 2,
            "linecolor": "white",
            "showbackground": true,
            "ticks": "",
            "zerolinecolor": "white"
           }
          },
          "shapedefaults": {
           "line": {
            "color": "#2a3f5f"
           }
          },
          "ternary": {
           "aaxis": {
            "gridcolor": "white",
            "linecolor": "white",
            "ticks": ""
           },
           "baxis": {
            "gridcolor": "white",
            "linecolor": "white",
            "ticks": ""
           },
           "bgcolor": "#E5ECF6",
           "caxis": {
            "gridcolor": "white",
            "linecolor": "white",
            "ticks": ""
           }
          },
          "title": {
           "x": 0.05
          },
          "xaxis": {
           "automargin": true,
           "gridcolor": "white",
           "linecolor": "white",
           "ticks": "",
           "title": {
            "standoff": 15
           },
           "zerolinecolor": "white",
           "zerolinewidth": 2
          },
          "yaxis": {
           "automargin": true,
           "gridcolor": "white",
           "linecolor": "white",
           "ticks": "",
           "title": {
            "standoff": 15
           },
           "zerolinecolor": "white",
           "zerolinewidth": 2
          }
         }
        }
       }
      },
      "image/png": "[encoded data removed]",
      "text/html": [
       "<div>                            <div id=\"cab0db12-e33e-4925-8963-945928997581\" class=\"plotly-graph-div\" style=\"height:525px; width:100%;\"></div>            <script type=\"text/javascript\">                require([\"plotly\"], function(Plotly) {                    window.PLOTLYENV=window.PLOTLYENV || {};                                    if (document.getElementById(\"cab0db12-e33e-4925-8963-945928997581\")) {                    Plotly.newPlot(                        \"cab0db12-e33e-4925-8963-945928997581\",                        [{\"dimensions\":[{\"label\":\"neighborhood\",\"values\":[\"Union Square District\",\"Merced Heights\",\"Miraloma Park\",\"Pacific Heights\",\"Westwood Park\",\"Telegraph Hill\",\"Presidio Heights\",\"Cow Hollow\",\"Potrero Hill\",\"South Beach\"]},{\"label\":\"sale_price_sqr_foot\",\"values\":[903.9932576720645,788.8448175872469,779.810842264425,689.5558168113664,687.0875745178322,676.5065775293257,675.3502120510033,665.9640415783227,662.0136128276529,650.1244791945729]},{\"label\":\"housing_units\",\"values\":[377427.5,380348.0,375967.25,378401.0,382295.0,378401.0,378401.0,378401.0,378401.0,375805.0]},{\"label\":\"gross_rent\",\"values\":[2555.1666666666665,3414.0,2155.25,2817.285714285714,3959.0,2817.285714285714,2817.285714285714,2817.285714285714,2817.285714285714,2099.0]}],\"domain\":{\"x\":[0.0,1.0],\"y\":[0.0,1.0]},\"line\":{\"color\":[903.9932576720645,788.8448175872469,779.810842264425,689.5558168113664,687.0875745178322,676.5065775293257,675.3502120510033,665.9640415783227,662.0136128276529,650.1244791945729],\"coloraxis\":\"coloraxis\"},\"name\":\"\",\"type\":\"parcats\"}],                        {\"template\":{\"data\":{\"bar\":[{\"error_x\":{\"color\":\"#2a3f5f\"},\"error_y\":{\"color\":\"#2a3f5f\"},\"marker\":{\"line\":{\"color\":\"#E5ECF6\",\"width\":0.5},\"pattern\":{\"fillmode\":\"overlay\",\"size\":10,\"solidity\":0.2}},\"type\":\"bar\"}],\"barpolar\":[{\"marker\":{\"line\":{\"color\":\"#E5ECF6\",\"width\":0.5},\"pattern\":{\"fillmode\":\"overlay\",\"size\":10,\"solidity\":0.2}},\"type\":\"barpolar\"}],\"carpet\":[{\"aaxis\":{\"endlinecolor\":\"#2a3f5f\",\"gridcolor\":\"white\",\"linecolor\":\"white\",\"minorgridcolor\":\"white\",\"startlinecolor\":\"#2a3f5f\"},\"baxis\":{\"endlinecolor\":\"#2a3f5f\",\"gridcolor\":\"white\",\"linecolor\":\"white\",\"minorgridcolor\":\"white\",\"startlinecolor\":\"#2a3f5f\"},\"type\":\"carpet\"}],\"choropleth\":[{\"colorbar\":{\"outlinewidth\":0,\"ticks\":\"\"},\"type\":\"choropleth\"}],\"contour\":[{\"colorbar\":{\"outlinewidth\":0,\"ticks\":\"\"},\"colorscale\":[[0.0,\"#0d0887\"],[0.1111111111111111,\"#46039f\"],[0.2222222222222222,\"#7201a8\"],[0.3333333333333333,\"#9c179e\"],[0.4444444444444444,\"#bd3786\"],[0.5555555555555556,\"#d8576b\"],[0.6666666666666666,\"#ed7953\"],[0.7777777777777778,\"#fb9f3a\"],[0.8888888888888888,\"#fdca26\"],[1.0,\"#f0f921\"]],\"type\":\"contour\"}],\"contourcarpet\":[{\"colorbar\":{\"outlinewidth\":0,\"ticks\":\"\"},\"type\":\"contourcarpet\"}],\"heatmap\":[{\"colorbar\":{\"outlinewidth\":0,\"ticks\":\"\"},\"colorscale\":[[0.0,\"#0d0887\"],[0.1111111111111111,\"#46039f\"],[0.2222222222222222,\"#7201a8\"],[0.3333333333333333,\"#9c179e\"],[0.4444444444444444,\"#bd3786\"],[0.5555555555555556,\"#d8576b\"],[0.6666666666666666,\"#ed7953\"],[0.7777777777777778,\"#fb9f3a\"],[0.8888888888888888,\"#fdca26\"],[1.0,\"#f0f921\"]],\"type\":\"heatmap\"}],\"heatmapgl\":[{\"colorbar\":{\"outlinewidth\":0,\"ticks\":\"\"},\"colorscale\":[[0.0,\"#0d0887\"],[0.1111111111111111,\"#46039f\"],[0.2222222222222222,\"#7201a8\"],[0.3333333333333333,\"#9c179e\"],[0.4444444444444444,\"#bd3786\"],[0.5555555555555556,\"#d8576b\"],[0.6666666666666666,\"#ed7953\"],[0.7777777777777778,\"#fb9f3a\"],[0.8888888888888888,\"#fdca26\"],[1.0,\"#f0f921\"]],\"type\":\"heatmapgl\"}],\"histogram\":[{\"marker\":{\"pattern\":{\"fillmode\":\"overlay\",\"size\":10,\"solidity\":0.2}},\"type\":\"histogram\"}],\"histogram2d\":[{\"colorbar\":{\"outlinewidth\":0,\"ticks\":\"\"},\"colorscale\":[[0.0,\"#0d0887\"],[0.1111111111111111,\"#46039f\"],[0.2222222222222222,\"#7201a8\"],[0.3333333333333333,\"#9c179e\"],[0.4444444444444444,\"#bd3786\"],[0.5555555555555556,\"#d8576b\"],[0.6666666666666666,\"#ed7953\"],[0.7777777777777778,\"#fb9f3a\"],[0.8888888888888888,\"#fdca26\"],[1.0,\"#f0f921\"]],\"type\":\"histogram2d\"}],\"histogram2dcontour\":[{\"colorbar\":{\"outlinewidth\":0,\"ticks\":\"\"},\"colorscale\":[[0.0,\"#0d0887\"],[0.1111111111111111,\"#46039f\"],[0.2222222222222222,\"#7201a8\"],[0.3333333333333333,\"#9c179e\"],[0.4444444444444444,\"#bd3786\"],[0.5555555555555556,\"#d8576b\"],[0.6666666666666666,\"#ed7953\"],[0.7777777777777778,\"#fb9f3a\"],[0.8888888888888888,\"#fdca26\"],[1.0,\"#f0f921\"]],\"type\":\"histogram2dcontour\"}],\"mesh3d\":[{\"colorbar\":{\"outlinewidth\":0,\"ticks\":\"\"},\"type\":\"mesh3d\"}],\"parcoords\":[{\"line\":{\"colorbar\":{\"outlinewidth\":0,\"ticks\":\"\"}},\"type\":\"parcoords\"}],\"pie\":[{\"automargin\":true,\"type\":\"pie\"}],\"scatter\":[{\"marker\":{\"colorbar\":{\"outlinewidth\":0,\"ticks\":\"\"}},\"type\":\"scatter\"}],\"scatter3d\":[{\"line\":{\"colorbar\":{\"outlinewidth\":0,\"ticks\":\"\"}},\"marker\":{\"colorbar\":{\"outlinewidth\":0,\"ticks\":\"\"}},\"type\":\"scatter3d\"}],\"scattercarpet\":[{\"marker\":{\"colorbar\":{\"outlinewidth\":0,\"ticks\":\"\"}},\"type\":\"scattercarpet\"}],\"scattergeo\":[{\"marker\":{\"colorbar\":{\"outlinewidth\":0,\"ticks\":\"\"}},\"type\":\"scattergeo\"}],\"scattergl\":[{\"marker\":{\"colorbar\":{\"outlinewidth\":0,\"ticks\":\"\"}},\"type\":\"scattergl\"}],\"scattermapbox\":[{\"marker\":{\"colorbar\":{\"outlinewidth\":0,\"ticks\":\"\"}},\"type\":\"scattermapbox\"}],\"scatterpolar\":[{\"marker\":{\"colorbar\":{\"outlinewidth\":0,\"ticks\":\"\"}},\"type\":\"scatterpolar\"}],\"scatterpolargl\":[{\"marker\":{\"colorbar\":{\"outlinewidth\":0,\"ticks\":\"\"}},\"type\":\"scatterpolargl\"}],\"scatterternary\":[{\"marker\":{\"colorbar\":{\"outlinewidth\":0,\"ticks\":\"\"}},\"type\":\"scatterternary\"}],\"surface\":[{\"colorbar\":{\"outlinewidth\":0,\"ticks\":\"\"},\"colorscale\":[[0.0,\"#0d0887\"],[0.1111111111111111,\"#46039f\"],[0.2222222222222222,\"#7201a8\"],[0.3333333333333333,\"#9c179e\"],[0.4444444444444444,\"#bd3786\"],[0.5555555555555556,\"#d8576b\"],[0.6666666666666666,\"#ed7953\"],[0.7777777777777778,\"#fb9f3a\"],[0.8888888888888888,\"#fdca26\"],[1.0,\"#f0f921\"]],\"type\":\"surface\"}],\"table\":[{\"cells\":{\"fill\":{\"color\":\"#EBF0F8\"},\"line\":{\"color\":\"white\"}},\"header\":{\"fill\":{\"color\":\"#C8D4E3\"},\"line\":{\"color\":\"white\"}},\"type\":\"table\"}]},\"layout\":{\"annotationdefaults\":{\"arrowcolor\":\"#2a3f5f\",\"arrowhead\":0,\"arrowwidth\":1},\"autotypenumbers\":\"strict\",\"coloraxis\":{\"colorbar\":{\"outlinewidth\":0,\"ticks\":\"\"}},\"colorscale\":{\"diverging\":[[0,\"#8e0152\"],[0.1,\"#c51b7d\"],[0.2,\"#de77ae\"],[0.3,\"#f1b6da\"],[0.4,\"#fde0ef\"],[0.5,\"#f7f7f7\"],[0.6,\"#e6f5d0\"],[0.7,\"#b8e186\"],[0.8,\"#7fbc41\"],[0.9,\"#4d9221\"],[1,\"#276419\"]],\"sequential\":[[0.0,\"#0d0887\"],[0.1111111111111111,\"#46039f\"],[0.2222222222222222,\"#7201a8\"],[0.3333333333333333,\"#9c179e\"],[0.4444444444444444,\"#bd3786\"],[0.5555555555555556,\"#d8576b\"],[0.6666666666666666,\"#ed7953\"],[0.7777777777777778,\"#fb9f3a\"],[0.8888888888888888,\"#fdca26\"],[1.0,\"#f0f921\"]],\"sequentialminus\":[[0.0,\"#0d0887\"],[0.1111111111111111,\"#46039f\"],[0.2222222222222222,\"#7201a8\"],[0.3333333333333333,\"#9c179e\"],[0.4444444444444444,\"#bd3786\"],[0.5555555555555556,\"#d8576b\"],[0.6666666666666666,\"#ed7953\"],[0.7777777777777778,\"#fb9f3a\"],[0.8888888888888888,\"#fdca26\"],[1.0,\"#f0f921\"]]},\"colorway\":[\"#636efa\",\"#EF553B\",\"#00cc96\",\"#ab63fa\",\"#FFA15A\",\"#19d3f3\",\"#FF6692\",\"#B6E880\",\"#FF97FF\",\"#FECB52\"],\"font\":{\"color\":\"#2a3f5f\"},\"geo\":{\"bgcolor\":\"white\",\"lakecolor\":\"white\",\"landcolor\":\"#E5ECF6\",\"showlakes\":true,\"showland\":true,\"subunitcolor\":\"white\"},\"hoverlabel\":{\"align\":\"left\"},\"hovermode\":\"closest\",\"mapbox\":{\"style\":\"light\"},\"paper_bgcolor\":\"white\",\"plot_bgcolor\":\"#E5ECF6\",\"polar\":{\"angularaxis\":{\"gridcolor\":\"white\",\"linecolor\":\"white\",\"ticks\":\"\"},\"bgcolor\":\"#E5ECF6\",\"radialaxis\":{\"gridcolor\":\"white\",\"linecolor\":\"white\",\"ticks\":\"\"}},\"scene\":{\"xaxis\":{\"backgroundcolor\":\"#E5ECF6\",\"gridcolor\":\"white\",\"gridwidth\":2,\"linecolor\":\"white\",\"showbackground\":true,\"ticks\":\"\",\"zerolinecolor\":\"white\"},\"yaxis\":{\"backgroundcolor\":\"#E5ECF6\",\"gridcolor\":\"white\",\"gridwidth\":2,\"linecolor\":\"white\",\"showbackground\":true,\"ticks\":\"\",\"zerolinecolor\":\"white\"},\"zaxis\":{\"backgroundcolor\":\"#E5ECF6\",\"gridcolor\":\"white\",\"gridwidth\":2,\"linecolor\":\"white\",\"showbackground\":true,\"ticks\":\"\",\"zerolinecolor\":\"white\"}},\"shapedefaults\":{\"line\":{\"color\":\"#2a3f5f\"}},\"ternary\":{\"aaxis\":{\"gridcolor\":\"white\",\"linecolor\":\"white\",\"ticks\":\"\"},\"baxis\":{\"gridcolor\":\"white\",\"linecolor\":\"white\",\"ticks\":\"\"},\"bgcolor\":\"#E5ECF6\",\"caxis\":{\"gridcolor\":\"white\",\"linecolor\":\"white\",\"ticks\":\"\"}},\"title\":{\"x\":0.05},\"xaxis\":{\"automargin\":true,\"gridcolor\":\"white\",\"linecolor\":\"white\",\"ticks\":\"\",\"title\":{\"standoff\":15},\"zerolinecolor\":\"white\",\"zerolinewidth\":2},\"yaxis\":{\"automargin\":true,\"gridcolor\":\"white\",\"linecolor\":\"white\",\"ticks\":\"\",\"title\":{\"standoff\":15},\"zerolinecolor\":\"white\",\"zerolinewidth\":2}}},\"coloraxis\":{\"colorbar\":{\"title\":{\"text\":\"sale_price_sqr_foot\"}},\"colorscale\":[[0.0,\"#000004\"],[0.1111111111111111,\"#1b0c41\"],[0.2222222222222222,\"#4a0c6b\"],[0.3333333333333333,\"#781c6d\"],[0.4444444444444444,\"#a52c60\"],[0.5555555555555556,\"#cf4446\"],[0.6666666666666666,\"#ed6925\"],[0.7777777777777778,\"#fb9b06\"],[0.8888888888888888,\"#f7d13d\"],[1.0,\"#fcffa4\"]]},\"legend\":{\"tracegroupgap\":0},\"margin\":{\"t\":60}},                        {\"responsive\": true}                    ).then(function(){\n",
       "                            \n",
       "var gd = document.getElementById('cab0db12-e33e-4925-8963-945928997581');\n",
       "var x = new MutationObserver(function (mutations, observer) {{\n",
       "        var display = window.getComputedStyle(gd).display;\n",
       "        if (!display || display === 'none') {{\n",
       "            console.log([gd, 'removed!']);\n",
       "            Plotly.purge(gd);\n",
       "            observer.disconnect();\n",
       "        }}\n",
       "}});\n",
       "\n",
       "// Listen for the removal of the full notebook cells\n",
       "var notebookContainer = gd.closest('#notebook-container');\n",
       "if (notebookContainer) {{\n",
       "    x.observe(notebookContainer, {childList: true});\n",
       "}}\n",
       "\n",
       "// Listen for the clearing of the current output cell\n",
       "var outputEl = gd.closest('.output');\n",
       "if (outputEl) {{\n",
       "    x.observe(outputEl, {childList: true});\n",
       "}}\n",
       "\n",
       "                        })                };                });            </script>        </div>"
      ]
     },
     "metadata": {},
     "output_type": "display_data"
    }
   ],
   "source": [
    " parallel_categories()"
   ]
  },
  {
   "cell_type": "code",
   "execution_count": 26,
   "metadata": {},
   "outputs": [
    {
     "data": {
      "application/vnd.plotly.v1+json": {
       "config": {
        "plotlyServerURL": "https://plot.ly"
       },
       "data": [
        {
         "dimensions": [
          {
           "label": "sale_price_sqr_foot",
           "values": [
            903.9932576720645,
            788.8448175872469,
            779.810842264425,
            689.5558168113664,
            687.0875745178322,
            676.5065775293257,
            675.3502120510033,
            665.9640415783227,
            662.0136128276529,
            650.1244791945729
           ]
          },
          {
           "label": "housing_units",
           "values": [
            377427.5,
            380348,
            375967.25,
            378401,
            382295,
            378401,
            378401,
            378401,
            378401,
            375805
           ]
          },
          {
           "label": "gross_rent",
           "values": [
            2555.1666666666665,
            3414,
            2155.25,
            2817.285714285714,
            3959,
            2817.285714285714,
            2817.285714285714,
            2817.285714285714,
            2817.285714285714,
            2099
           ]
          }
         ],
         "domain": {
          "x": [
           0,
           1
          ],
          "y": [
           0,
           1
          ]
         },
         "line": {
          "color": [
           903.9932576720645,
           788.8448175872469,
           779.810842264425,
           689.5558168113664,
           687.0875745178322,
           676.5065775293257,
           675.3502120510033,
           665.9640415783227,
           662.0136128276529,
           650.1244791945729
          ],
          "coloraxis": "coloraxis"
         },
         "name": "",
         "type": "parcoords"
        }
       ],
       "layout": {
        "autosize": true,
        "coloraxis": {
         "colorbar": {
          "title": {
           "text": "sale_price_sqr_foot"
          }
         },
         "colorscale": [
          [
           0,
           "#0d0887"
          ],
          [
           0.1111111111111111,
           "#46039f"
          ],
          [
           0.2222222222222222,
           "#7201a8"
          ],
          [
           0.3333333333333333,
           "#9c179e"
          ],
          [
           0.4444444444444444,
           "#bd3786"
          ],
          [
           0.5555555555555556,
           "#d8576b"
          ],
          [
           0.6666666666666666,
           "#ed7953"
          ],
          [
           0.7777777777777778,
           "#fb9f3a"
          ],
          [
           0.8888888888888888,
           "#fdca26"
          ],
          [
           1,
           "#f0f921"
          ]
         ]
        },
        "legend": {
         "tracegroupgap": 0
        },
        "margin": {
         "t": 60
        },
        "template": {
         "data": {
          "bar": [
           {
            "error_x": {
             "color": "#2a3f5f"
            },
            "error_y": {
             "color": "#2a3f5f"
            },
            "marker": {
             "line": {
              "color": "#E5ECF6",
              "width": 0.5
             },
             "pattern": {
              "fillmode": "overlay",
              "size": 10,
              "solidity": 0.2
             }
            },
            "type": "bar"
           }
          ],
          "barpolar": [
           {
            "marker": {
             "line": {
              "color": "#E5ECF6",
              "width": 0.5
             },
             "pattern": {
              "fillmode": "overlay",
              "size": 10,
              "solidity": 0.2
             }
            },
            "type": "barpolar"
           }
          ],
          "carpet": [
           {
            "aaxis": {
             "endlinecolor": "#2a3f5f",
             "gridcolor": "white",
             "linecolor": "white",
             "minorgridcolor": "white",
             "startlinecolor": "#2a3f5f"
            },
            "baxis": {
             "endlinecolor": "#2a3f5f",
             "gridcolor": "white",
             "linecolor": "white",
             "minorgridcolor": "white",
             "startlinecolor": "#2a3f5f"
            },
            "type": "carpet"
           }
          ],
          "choropleth": [
           {
            "colorbar": {
             "outlinewidth": 0,
             "ticks": ""
            },
            "type": "choropleth"
           }
          ],
          "contour": [
           {
            "colorbar": {
             "outlinewidth": 0,
             "ticks": ""
            },
            "colorscale": [
             [
              0,
              "#0d0887"
             ],
             [
              0.1111111111111111,
              "#46039f"
             ],
             [
              0.2222222222222222,
              "#7201a8"
             ],
             [
              0.3333333333333333,
              "#9c179e"
             ],
             [
              0.4444444444444444,
              "#bd3786"
             ],
             [
              0.5555555555555556,
              "#d8576b"
             ],
             [
              0.6666666666666666,
              "#ed7953"
             ],
             [
              0.7777777777777778,
              "#fb9f3a"
             ],
             [
              0.8888888888888888,
              "#fdca26"
             ],
             [
              1,
              "#f0f921"
             ]
            ],
            "type": "contour"
           }
          ],
          "contourcarpet": [
           {
            "colorbar": {
             "outlinewidth": 0,
             "ticks": ""
            },
            "type": "contourcarpet"
           }
          ],
          "heatmap": [
           {
            "colorbar": {
             "outlinewidth": 0,
             "ticks": ""
            },
            "colorscale": [
             [
              0,
              "#0d0887"
             ],
             [
              0.1111111111111111,
              "#46039f"
             ],
             [
              0.2222222222222222,
              "#7201a8"
             ],
             [
              0.3333333333333333,
              "#9c179e"
             ],
             [
              0.4444444444444444,
              "#bd3786"
             ],
             [
              0.5555555555555556,
              "#d8576b"
             ],
             [
              0.6666666666666666,
              "#ed7953"
             ],
             [
              0.7777777777777778,
              "#fb9f3a"
             ],
             [
              0.8888888888888888,
              "#fdca26"
             ],
             [
              1,
              "#f0f921"
             ]
            ],
            "type": "heatmap"
           }
          ],
          "heatmapgl": [
           {
            "colorbar": {
             "outlinewidth": 0,
             "ticks": ""
            },
            "colorscale": [
             [
              0,
              "#0d0887"
             ],
             [
              0.1111111111111111,
              "#46039f"
             ],
             [
              0.2222222222222222,
              "#7201a8"
             ],
             [
              0.3333333333333333,
              "#9c179e"
             ],
             [
              0.4444444444444444,
              "#bd3786"
             ],
             [
              0.5555555555555556,
              "#d8576b"
             ],
             [
              0.6666666666666666,
              "#ed7953"
             ],
             [
              0.7777777777777778,
              "#fb9f3a"
             ],
             [
              0.8888888888888888,
              "#fdca26"
             ],
             [
              1,
              "#f0f921"
             ]
            ],
            "type": "heatmapgl"
           }
          ],
          "histogram": [
           {
            "marker": {
             "pattern": {
              "fillmode": "overlay",
              "size": 10,
              "solidity": 0.2
             }
            },
            "type": "histogram"
           }
          ],
          "histogram2d": [
           {
            "colorbar": {
             "outlinewidth": 0,
             "ticks": ""
            },
            "colorscale": [
             [
              0,
              "#0d0887"
             ],
             [
              0.1111111111111111,
              "#46039f"
             ],
             [
              0.2222222222222222,
              "#7201a8"
             ],
             [
              0.3333333333333333,
              "#9c179e"
             ],
             [
              0.4444444444444444,
              "#bd3786"
             ],
             [
              0.5555555555555556,
              "#d8576b"
             ],
             [
              0.6666666666666666,
              "#ed7953"
             ],
             [
              0.7777777777777778,
              "#fb9f3a"
             ],
             [
              0.8888888888888888,
              "#fdca26"
             ],
             [
              1,
              "#f0f921"
             ]
            ],
            "type": "histogram2d"
           }
          ],
          "histogram2dcontour": [
           {
            "colorbar": {
             "outlinewidth": 0,
             "ticks": ""
            },
            "colorscale": [
             [
              0,
              "#0d0887"
             ],
             [
              0.1111111111111111,
              "#46039f"
             ],
             [
              0.2222222222222222,
              "#7201a8"
             ],
             [
              0.3333333333333333,
              "#9c179e"
             ],
             [
              0.4444444444444444,
              "#bd3786"
             ],
             [
              0.5555555555555556,
              "#d8576b"
             ],
             [
              0.6666666666666666,
              "#ed7953"
             ],
             [
              0.7777777777777778,
              "#fb9f3a"
             ],
             [
              0.8888888888888888,
              "#fdca26"
             ],
             [
              1,
              "#f0f921"
             ]
            ],
            "type": "histogram2dcontour"
           }
          ],
          "mesh3d": [
           {
            "colorbar": {
             "outlinewidth": 0,
             "ticks": ""
            },
            "type": "mesh3d"
           }
          ],
          "parcoords": [
           {
            "line": {
             "colorbar": {
              "outlinewidth": 0,
              "ticks": ""
             }
            },
            "type": "parcoords"
           }
          ],
          "pie": [
           {
            "automargin": true,
            "type": "pie"
           }
          ],
          "scatter": [
           {
            "marker": {
             "colorbar": {
              "outlinewidth": 0,
              "ticks": ""
             }
            },
            "type": "scatter"
           }
          ],
          "scatter3d": [
           {
            "line": {
             "colorbar": {
              "outlinewidth": 0,
              "ticks": ""
             }
            },
            "marker": {
             "colorbar": {
              "outlinewidth": 0,
              "ticks": ""
             }
            },
            "type": "scatter3d"
           }
          ],
          "scattercarpet": [
           {
            "marker": {
             "colorbar": {
              "outlinewidth": 0,
              "ticks": ""
             }
            },
            "type": "scattercarpet"
           }
          ],
          "scattergeo": [
           {
            "marker": {
             "colorbar": {
              "outlinewidth": 0,
              "ticks": ""
             }
            },
            "type": "scattergeo"
           }
          ],
          "scattergl": [
           {
            "marker": {
             "colorbar": {
              "outlinewidth": 0,
              "ticks": ""
             }
            },
            "type": "scattergl"
           }
          ],
          "scattermapbox": [
           {
            "marker": {
             "colorbar": {
              "outlinewidth": 0,
              "ticks": ""
             }
            },
            "type": "scattermapbox"
           }
          ],
          "scatterpolar": [
           {
            "marker": {
             "colorbar": {
              "outlinewidth": 0,
              "ticks": ""
             }
            },
            "type": "scatterpolar"
           }
          ],
          "scatterpolargl": [
           {
            "marker": {
             "colorbar": {
              "outlinewidth": 0,
              "ticks": ""
             }
            },
            "type": "scatterpolargl"
           }
          ],
          "scatterternary": [
           {
            "marker": {
             "colorbar": {
              "outlinewidth": 0,
              "ticks": ""
             }
            },
            "type": "scatterternary"
           }
          ],
          "surface": [
           {
            "colorbar": {
             "outlinewidth": 0,
             "ticks": ""
            },
            "colorscale": [
             [
              0,
              "#0d0887"
             ],
             [
              0.1111111111111111,
              "#46039f"
             ],
             [
              0.2222222222222222,
              "#7201a8"
             ],
             [
              0.3333333333333333,
              "#9c179e"
             ],
             [
              0.4444444444444444,
              "#bd3786"
             ],
             [
              0.5555555555555556,
              "#d8576b"
             ],
             [
              0.6666666666666666,
              "#ed7953"
             ],
             [
              0.7777777777777778,
              "#fb9f3a"
             ],
             [
              0.8888888888888888,
              "#fdca26"
             ],
             [
              1,
              "#f0f921"
             ]
            ],
            "type": "surface"
           }
          ],
          "table": [
           {
            "cells": {
             "fill": {
              "color": "#EBF0F8"
             },
             "line": {
              "color": "white"
             }
            },
            "header": {
             "fill": {
              "color": "#C8D4E3"
             },
             "line": {
              "color": "white"
             }
            },
            "type": "table"
           }
          ]
         },
         "layout": {
          "annotationdefaults": {
           "arrowcolor": "#2a3f5f",
           "arrowhead": 0,
           "arrowwidth": 1
          },
          "autotypenumbers": "strict",
          "coloraxis": {
           "colorbar": {
            "outlinewidth": 0,
            "ticks": ""
           }
          },
          "colorscale": {
           "diverging": [
            [
             0,
             "#8e0152"
            ],
            [
             0.1,
             "#c51b7d"
            ],
            [
             0.2,
             "#de77ae"
            ],
            [
             0.3,
             "#f1b6da"
            ],
            [
             0.4,
             "#fde0ef"
            ],
            [
             0.5,
             "#f7f7f7"
            ],
            [
             0.6,
             "#e6f5d0"
            ],
            [
             0.7,
             "#b8e186"
            ],
            [
             0.8,
             "#7fbc41"
            ],
            [
             0.9,
             "#4d9221"
            ],
            [
             1,
             "#276419"
            ]
           ],
           "sequential": [
            [
             0,
             "#0d0887"
            ],
            [
             0.1111111111111111,
             "#46039f"
            ],
            [
             0.2222222222222222,
             "#7201a8"
            ],
            [
             0.3333333333333333,
             "#9c179e"
            ],
            [
             0.4444444444444444,
             "#bd3786"
            ],
            [
             0.5555555555555556,
             "#d8576b"
            ],
            [
             0.6666666666666666,
             "#ed7953"
            ],
            [
             0.7777777777777778,
             "#fb9f3a"
            ],
            [
             0.8888888888888888,
             "#fdca26"
            ],
            [
             1,
             "#f0f921"
            ]
           ],
           "sequentialminus": [
            [
             0,
             "#0d0887"
            ],
            [
             0.1111111111111111,
             "#46039f"
            ],
            [
             0.2222222222222222,
             "#7201a8"
            ],
            [
             0.3333333333333333,
             "#9c179e"
            ],
            [
             0.4444444444444444,
             "#bd3786"
            ],
            [
             0.5555555555555556,
             "#d8576b"
            ],
            [
             0.6666666666666666,
             "#ed7953"
            ],
            [
             0.7777777777777778,
             "#fb9f3a"
            ],
            [
             0.8888888888888888,
             "#fdca26"
            ],
            [
             1,
             "#f0f921"
            ]
           ]
          },
          "colorway": [
           "#636efa",
           "#EF553B",
           "#00cc96",
           "#ab63fa",
           "#FFA15A",
           "#19d3f3",
           "#FF6692",
           "#B6E880",
           "#FF97FF",
           "#FECB52"
          ],
          "font": {
           "color": "#2a3f5f"
          },
          "geo": {
           "bgcolor": "white",
           "lakecolor": "white",
           "landcolor": "#E5ECF6",
           "showlakes": true,
           "showland": true,
           "subunitcolor": "white"
          },
          "hoverlabel": {
           "align": "left"
          },
          "hovermode": "closest",
          "mapbox": {
           "style": "light"
          },
          "paper_bgcolor": "white",
          "plot_bgcolor": "#E5ECF6",
          "polar": {
           "angularaxis": {
            "gridcolor": "white",
            "linecolor": "white",
            "ticks": ""
           },
           "bgcolor": "#E5ECF6",
           "radialaxis": {
            "gridcolor": "white",
            "linecolor": "white",
            "ticks": ""
           }
          },
          "scene": {
           "xaxis": {
            "backgroundcolor": "#E5ECF6",
            "gridcolor": "white",
            "gridwidth": 2,
            "linecolor": "white",
            "showbackground": true,
            "ticks": "",
            "zerolinecolor": "white"
           },
           "yaxis": {
            "backgroundcolor": "#E5ECF6",
            "gridcolor": "white",
            "gridwidth": 2,
            "linecolor": "white",
            "showbackground": true,
            "ticks": "",
            "zerolinecolor": "white"
           },
           "zaxis": {
            "backgroundcolor": "#E5ECF6",
            "gridcolor": "white",
            "gridwidth": 2,
            "linecolor": "white",
            "showbackground": true,
            "ticks": "",
            "zerolinecolor": "white"
           }
          },
          "shapedefaults": {
           "line": {
            "color": "#2a3f5f"
           }
          },
          "ternary": {
           "aaxis": {
            "gridcolor": "white",
            "linecolor": "white",
            "ticks": ""
           },
           "baxis": {
            "gridcolor": "white",
            "linecolor": "white",
            "ticks": ""
           },
           "bgcolor": "#E5ECF6",
           "caxis": {
            "gridcolor": "white",
            "linecolor": "white",
            "ticks": ""
           }
          },
          "title": {
           "x": 0.05
          },
          "xaxis": {
           "automargin": true,
           "gridcolor": "white",
           "linecolor": "white",
           "ticks": "",
           "title": {
            "standoff": 15
           },
           "zerolinecolor": "white",
           "zerolinewidth": 2
          },
          "yaxis": {
           "automargin": true,
           "gridcolor": "white",
           "linecolor": "white",
           "ticks": "",
           "title": {
            "standoff": 15
           },
           "zerolinecolor": "white",
           "zerolinewidth": 2
          }
         }
        }
       }
      },
      "image/png": "[encoded data removed]",
      "text/html": [
       "<div>                            <div id=\"223a64a3-9d8a-4a55-a96f-c89606674071\" class=\"plotly-graph-div\" style=\"height:525px; width:100%;\"></div>            <script type=\"text/javascript\">                require([\"plotly\"], function(Plotly) {                    window.PLOTLYENV=window.PLOTLYENV || {};                                    if (document.getElementById(\"223a64a3-9d8a-4a55-a96f-c89606674071\")) {                    Plotly.newPlot(                        \"223a64a3-9d8a-4a55-a96f-c89606674071\",                        [{\"dimensions\":[{\"label\":\"sale_price_sqr_foot\",\"values\":[903.9932576720645,788.8448175872469,779.810842264425,689.5558168113664,687.0875745178322,676.5065775293257,675.3502120510033,665.9640415783227,662.0136128276529,650.1244791945729]},{\"label\":\"housing_units\",\"values\":[377427.5,380348.0,375967.25,378401.0,382295.0,378401.0,378401.0,378401.0,378401.0,375805.0]},{\"label\":\"gross_rent\",\"values\":[2555.1666666666665,3414.0,2155.25,2817.285714285714,3959.0,2817.285714285714,2817.285714285714,2817.285714285714,2817.285714285714,2099.0]}],\"domain\":{\"x\":[0.0,1.0],\"y\":[0.0,1.0]},\"line\":{\"color\":[903.9932576720645,788.8448175872469,779.810842264425,689.5558168113664,687.0875745178322,676.5065775293257,675.3502120510033,665.9640415783227,662.0136128276529,650.1244791945729],\"coloraxis\":\"coloraxis\"},\"name\":\"\",\"type\":\"parcoords\"}],                        {\"template\":{\"data\":{\"bar\":[{\"error_x\":{\"color\":\"#2a3f5f\"},\"error_y\":{\"color\":\"#2a3f5f\"},\"marker\":{\"line\":{\"color\":\"#E5ECF6\",\"width\":0.5},\"pattern\":{\"fillmode\":\"overlay\",\"size\":10,\"solidity\":0.2}},\"type\":\"bar\"}],\"barpolar\":[{\"marker\":{\"line\":{\"color\":\"#E5ECF6\",\"width\":0.5},\"pattern\":{\"fillmode\":\"overlay\",\"size\":10,\"solidity\":0.2}},\"type\":\"barpolar\"}],\"carpet\":[{\"aaxis\":{\"endlinecolor\":\"#2a3f5f\",\"gridcolor\":\"white\",\"linecolor\":\"white\",\"minorgridcolor\":\"white\",\"startlinecolor\":\"#2a3f5f\"},\"baxis\":{\"endlinecolor\":\"#2a3f5f\",\"gridcolor\":\"white\",\"linecolor\":\"white\",\"minorgridcolor\":\"white\",\"startlinecolor\":\"#2a3f5f\"},\"type\":\"carpet\"}],\"choropleth\":[{\"colorbar\":{\"outlinewidth\":0,\"ticks\":\"\"},\"type\":\"choropleth\"}],\"contour\":[{\"colorbar\":{\"outlinewidth\":0,\"ticks\":\"\"},\"colorscale\":[[0.0,\"#0d0887\"],[0.1111111111111111,\"#46039f\"],[0.2222222222222222,\"#7201a8\"],[0.3333333333333333,\"#9c179e\"],[0.4444444444444444,\"#bd3786\"],[0.5555555555555556,\"#d8576b\"],[0.6666666666666666,\"#ed7953\"],[0.7777777777777778,\"#fb9f3a\"],[0.8888888888888888,\"#fdca26\"],[1.0,\"#f0f921\"]],\"type\":\"contour\"}],\"contourcarpet\":[{\"colorbar\":{\"outlinewidth\":0,\"ticks\":\"\"},\"type\":\"contourcarpet\"}],\"heatmap\":[{\"colorbar\":{\"outlinewidth\":0,\"ticks\":\"\"},\"colorscale\":[[0.0,\"#0d0887\"],[0.1111111111111111,\"#46039f\"],[0.2222222222222222,\"#7201a8\"],[0.3333333333333333,\"#9c179e\"],[0.4444444444444444,\"#bd3786\"],[0.5555555555555556,\"#d8576b\"],[0.6666666666666666,\"#ed7953\"],[0.7777777777777778,\"#fb9f3a\"],[0.8888888888888888,\"#fdca26\"],[1.0,\"#f0f921\"]],\"type\":\"heatmap\"}],\"heatmapgl\":[{\"colorbar\":{\"outlinewidth\":0,\"ticks\":\"\"},\"colorscale\":[[0.0,\"#0d0887\"],[0.1111111111111111,\"#46039f\"],[0.2222222222222222,\"#7201a8\"],[0.3333333333333333,\"#9c179e\"],[0.4444444444444444,\"#bd3786\"],[0.5555555555555556,\"#d8576b\"],[0.6666666666666666,\"#ed7953\"],[0.7777777777777778,\"#fb9f3a\"],[0.8888888888888888,\"#fdca26\"],[1.0,\"#f0f921\"]],\"type\":\"heatmapgl\"}],\"histogram\":[{\"marker\":{\"pattern\":{\"fillmode\":\"overlay\",\"size\":10,\"solidity\":0.2}},\"type\":\"histogram\"}],\"histogram2d\":[{\"colorbar\":{\"outlinewidth\":0,\"ticks\":\"\"},\"colorscale\":[[0.0,\"#0d0887\"],[0.1111111111111111,\"#46039f\"],[0.2222222222222222,\"#7201a8\"],[0.3333333333333333,\"#9c179e\"],[0.4444444444444444,\"#bd3786\"],[0.5555555555555556,\"#d8576b\"],[0.6666666666666666,\"#ed7953\"],[0.7777777777777778,\"#fb9f3a\"],[0.8888888888888888,\"#fdca26\"],[1.0,\"#f0f921\"]],\"type\":\"histogram2d\"}],\"histogram2dcontour\":[{\"colorbar\":{\"outlinewidth\":0,\"ticks\":\"\"},\"colorscale\":[[0.0,\"#0d0887\"],[0.1111111111111111,\"#46039f\"],[0.2222222222222222,\"#7201a8\"],[0.3333333333333333,\"#9c179e\"],[0.4444444444444444,\"#bd3786\"],[0.5555555555555556,\"#d8576b\"],[0.6666666666666666,\"#ed7953\"],[0.7777777777777778,\"#fb9f3a\"],[0.8888888888888888,\"#fdca26\"],[1.0,\"#f0f921\"]],\"type\":\"histogram2dcontour\"}],\"mesh3d\":[{\"colorbar\":{\"outlinewidth\":0,\"ticks\":\"\"},\"type\":\"mesh3d\"}],\"parcoords\":[{\"line\":{\"colorbar\":{\"outlinewidth\":0,\"ticks\":\"\"}},\"type\":\"parcoords\"}],\"pie\":[{\"automargin\":true,\"type\":\"pie\"}],\"scatter\":[{\"marker\":{\"colorbar\":{\"outlinewidth\":0,\"ticks\":\"\"}},\"type\":\"scatter\"}],\"scatter3d\":[{\"line\":{\"colorbar\":{\"outlinewidth\":0,\"ticks\":\"\"}},\"marker\":{\"colorbar\":{\"outlinewidth\":0,\"ticks\":\"\"}},\"type\":\"scatter3d\"}],\"scattercarpet\":[{\"marker\":{\"colorbar\":{\"outlinewidth\":0,\"ticks\":\"\"}},\"type\":\"scattercarpet\"}],\"scattergeo\":[{\"marker\":{\"colorbar\":{\"outlinewidth\":0,\"ticks\":\"\"}},\"type\":\"scattergeo\"}],\"scattergl\":[{\"marker\":{\"colorbar\":{\"outlinewidth\":0,\"ticks\":\"\"}},\"type\":\"scattergl\"}],\"scattermapbox\":[{\"marker\":{\"colorbar\":{\"outlinewidth\":0,\"ticks\":\"\"}},\"type\":\"scattermapbox\"}],\"scatterpolar\":[{\"marker\":{\"colorbar\":{\"outlinewidth\":0,\"ticks\":\"\"}},\"type\":\"scatterpolar\"}],\"scatterpolargl\":[{\"marker\":{\"colorbar\":{\"outlinewidth\":0,\"ticks\":\"\"}},\"type\":\"scatterpolargl\"}],\"scatterternary\":[{\"marker\":{\"colorbar\":{\"outlinewidth\":0,\"ticks\":\"\"}},\"type\":\"scatterternary\"}],\"surface\":[{\"colorbar\":{\"outlinewidth\":0,\"ticks\":\"\"},\"colorscale\":[[0.0,\"#0d0887\"],[0.1111111111111111,\"#46039f\"],[0.2222222222222222,\"#7201a8\"],[0.3333333333333333,\"#9c179e\"],[0.4444444444444444,\"#bd3786\"],[0.5555555555555556,\"#d8576b\"],[0.6666666666666666,\"#ed7953\"],[0.7777777777777778,\"#fb9f3a\"],[0.8888888888888888,\"#fdca26\"],[1.0,\"#f0f921\"]],\"type\":\"surface\"}],\"table\":[{\"cells\":{\"fill\":{\"color\":\"#EBF0F8\"},\"line\":{\"color\":\"white\"}},\"header\":{\"fill\":{\"color\":\"#C8D4E3\"},\"line\":{\"color\":\"white\"}},\"type\":\"table\"}]},\"layout\":{\"annotationdefaults\":{\"arrowcolor\":\"#2a3f5f\",\"arrowhead\":0,\"arrowwidth\":1},\"autotypenumbers\":\"strict\",\"coloraxis\":{\"colorbar\":{\"outlinewidth\":0,\"ticks\":\"\"}},\"colorscale\":{\"diverging\":[[0,\"#8e0152\"],[0.1,\"#c51b7d\"],[0.2,\"#de77ae\"],[0.3,\"#f1b6da\"],[0.4,\"#fde0ef\"],[0.5,\"#f7f7f7\"],[0.6,\"#e6f5d0\"],[0.7,\"#b8e186\"],[0.8,\"#7fbc41\"],[0.9,\"#4d9221\"],[1,\"#276419\"]],\"sequential\":[[0.0,\"#0d0887\"],[0.1111111111111111,\"#46039f\"],[0.2222222222222222,\"#7201a8\"],[0.3333333333333333,\"#9c179e\"],[0.4444444444444444,\"#bd3786\"],[0.5555555555555556,\"#d8576b\"],[0.6666666666666666,\"#ed7953\"],[0.7777777777777778,\"#fb9f3a\"],[0.8888888888888888,\"#fdca26\"],[1.0,\"#f0f921\"]],\"sequentialminus\":[[0.0,\"#0d0887\"],[0.1111111111111111,\"#46039f\"],[0.2222222222222222,\"#7201a8\"],[0.3333333333333333,\"#9c179e\"],[0.4444444444444444,\"#bd3786\"],[0.5555555555555556,\"#d8576b\"],[0.6666666666666666,\"#ed7953\"],[0.7777777777777778,\"#fb9f3a\"],[0.8888888888888888,\"#fdca26\"],[1.0,\"#f0f921\"]]},\"colorway\":[\"#636efa\",\"#EF553B\",\"#00cc96\",\"#ab63fa\",\"#FFA15A\",\"#19d3f3\",\"#FF6692\",\"#B6E880\",\"#FF97FF\",\"#FECB52\"],\"font\":{\"color\":\"#2a3f5f\"},\"geo\":{\"bgcolor\":\"white\",\"lakecolor\":\"white\",\"landcolor\":\"#E5ECF6\",\"showlakes\":true,\"showland\":true,\"subunitcolor\":\"white\"},\"hoverlabel\":{\"align\":\"left\"},\"hovermode\":\"closest\",\"mapbox\":{\"style\":\"light\"},\"paper_bgcolor\":\"white\",\"plot_bgcolor\":\"#E5ECF6\",\"polar\":{\"angularaxis\":{\"gridcolor\":\"white\",\"linecolor\":\"white\",\"ticks\":\"\"},\"bgcolor\":\"#E5ECF6\",\"radialaxis\":{\"gridcolor\":\"white\",\"linecolor\":\"white\",\"ticks\":\"\"}},\"scene\":{\"xaxis\":{\"backgroundcolor\":\"#E5ECF6\",\"gridcolor\":\"white\",\"gridwidth\":2,\"linecolor\":\"white\",\"showbackground\":true,\"ticks\":\"\",\"zerolinecolor\":\"white\"},\"yaxis\":{\"backgroundcolor\":\"#E5ECF6\",\"gridcolor\":\"white\",\"gridwidth\":2,\"linecolor\":\"white\",\"showbackground\":true,\"ticks\":\"\",\"zerolinecolor\":\"white\"},\"zaxis\":{\"backgroundcolor\":\"#E5ECF6\",\"gridcolor\":\"white\",\"gridwidth\":2,\"linecolor\":\"white\",\"showbackground\":true,\"ticks\":\"\",\"zerolinecolor\":\"white\"}},\"shapedefaults\":{\"line\":{\"color\":\"#2a3f5f\"}},\"ternary\":{\"aaxis\":{\"gridcolor\":\"white\",\"linecolor\":\"white\",\"ticks\":\"\"},\"baxis\":{\"gridcolor\":\"white\",\"linecolor\":\"white\",\"ticks\":\"\"},\"bgcolor\":\"#E5ECF6\",\"caxis\":{\"gridcolor\":\"white\",\"linecolor\":\"white\",\"ticks\":\"\"}},\"title\":{\"x\":0.05},\"xaxis\":{\"automargin\":true,\"gridcolor\":\"white\",\"linecolor\":\"white\",\"ticks\":\"\",\"title\":{\"standoff\":15},\"zerolinecolor\":\"white\",\"zerolinewidth\":2},\"yaxis\":{\"automargin\":true,\"gridcolor\":\"white\",\"linecolor\":\"white\",\"ticks\":\"\",\"title\":{\"standoff\":15},\"zerolinecolor\":\"white\",\"zerolinewidth\":2}}},\"coloraxis\":{\"colorbar\":{\"title\":{\"text\":\"sale_price_sqr_foot\"}},\"colorscale\":[[0.0,\"#0d0887\"],[0.1111111111111111,\"#46039f\"],[0.2222222222222222,\"#7201a8\"],[0.3333333333333333,\"#9c179e\"],[0.4444444444444444,\"#bd3786\"],[0.5555555555555556,\"#d8576b\"],[0.6666666666666666,\"#ed7953\"],[0.7777777777777778,\"#fb9f3a\"],[0.8888888888888888,\"#fdca26\"],[1.0,\"#f0f921\"]]},\"legend\":{\"tracegroupgap\":0},\"margin\":{\"t\":60}},                        {\"responsive\": true}                    ).then(function(){\n",
       "                            \n",
       "var gd = document.getElementById('223a64a3-9d8a-4a55-a96f-c89606674071');\n",
       "var x = new MutationObserver(function (mutations, observer) {{\n",
       "        var display = window.getComputedStyle(gd).display;\n",
       "        if (!display || display === 'none') {{\n",
       "            console.log([gd, 'removed!']);\n",
       "            Plotly.purge(gd);\n",
       "            observer.disconnect();\n",
       "        }}\n",
       "}});\n",
       "\n",
       "// Listen for the removal of the full notebook cells\n",
       "var notebookContainer = gd.closest('#notebook-container');\n",
       "if (notebookContainer) {{\n",
       "    x.observe(notebookContainer, {childList: true});\n",
       "}}\n",
       "\n",
       "// Listen for the clearing of the current output cell\n",
       "var outputEl = gd.closest('.output');\n",
       "if (outputEl) {{\n",
       "    x.observe(outputEl, {childList: true});\n",
       "}}\n",
       "\n",
       "                        })                };                });            </script>        </div>"
      ]
     },
     "metadata": {},
     "output_type": "display_data"
    }
   ],
   "source": [
    " parallel_coordinates()"
   ]
  },
  {
   "cell_type": "code",
   "execution_count": 74,
   "metadata": {},
   "outputs": [
    {
     "ename": "TypeError",
     "evalue": "sunburst() got an unexpected keyword argument 'lat'",
     "output_type": "error",
     "traceback": [
      "\u001b[0;31m---------------------------------------------------------------------------\u001b[0m",
      "\u001b[0;31mTypeError\u001b[0m                                 Traceback (most recent call last)",
      "\u001b[0;32m/var/folders/6d/whj090tn0ddcfm4hx6b9bnp40000gn/T/ipykernel_40540/1212688798.py\u001b[0m in \u001b[0;36m<module>\u001b[0;34m\u001b[0m\n\u001b[0;32m----> 1\u001b[0;31m \u001b[0msunburst\u001b[0m\u001b[0;34m(\u001b[0m\u001b[0;34m)\u001b[0m\u001b[0;34m\u001b[0m\u001b[0;34m\u001b[0m\u001b[0m\n\u001b[0m\u001b[1;32m      2\u001b[0m \u001b[0mpx\u001b[0m\u001b[0;34m.\u001b[0m\u001b[0msunburst\u001b[0m\u001b[0;34m(\u001b[0m\u001b[0mtop_10_most_expensive\u001b[0m\u001b[0;34m,\u001b[0m \u001b[0mcolor\u001b[0m\u001b[0;34m=\u001b[0m\u001b[0;34m'sale_price_sqr_foot'\u001b[0m\u001b[0;34m)\u001b[0m\u001b[0;34m\u001b[0m\u001b[0;34m\u001b[0m\u001b[0m\n",
      "\u001b[0;32m/var/folders/6d/whj090tn0ddcfm4hx6b9bnp40000gn/T/ipykernel_40540/3478442141.py\u001b[0m in \u001b[0;36msunburst\u001b[0;34m()\u001b[0m\n\u001b[1;32m     17\u001b[0m     \u001b[0;31m#title=\"Average Sale Price per Square Foot and Gross Rent in San Francisco\",\u001b[0m\u001b[0;34m\u001b[0m\u001b[0;34m\u001b[0m\u001b[0;34m\u001b[0m\u001b[0m\n\u001b[1;32m     18\u001b[0m     \u001b[0mzoom\u001b[0m\u001b[0;34m=\u001b[0m\u001b[0;36m11\u001b[0m\u001b[0;34m,\u001b[0m\u001b[0;34m\u001b[0m\u001b[0;34m\u001b[0m\u001b[0m\n\u001b[0;32m---> 19\u001b[0;31m     \u001b[0mwidth\u001b[0m\u001b[0;34m=\u001b[0m\u001b[0;36m800\u001b[0m\u001b[0;34m,\u001b[0m\u001b[0;34m\u001b[0m\u001b[0;34m\u001b[0m\u001b[0m\n\u001b[0m\u001b[1;32m     20\u001b[0m )\n\u001b[1;32m     21\u001b[0m \u001b[0;34m\u001b[0m\u001b[0m\n",
      "\u001b[0;31mTypeError\u001b[0m: sunburst() got an unexpected keyword argument 'lat'"
     ]
    }
   ],
   "source": [
    " sunburst()\n",
    "px.sunburst(\n",
    "    \n",
    "    \n",
    ")\n",
    "fig.show()"
   ]
  },
  {
   "cell_type": "code",
   "execution_count": null,
   "metadata": {},
   "outputs": [],
   "source": []
  }
 ],
 "metadata": {
  "file_extension": ".py",
  "kernelspec": {
   "display_name": "Python [conda env:pyvizenv] *",
   "language": "python",
   "name": "conda-env-pyvizenv-py"
  },
  "language_info": {
   "codemirror_mode": {
    "name": "ipython",
    "version": 3
   },
   "file_extension": ".py",
   "mimetype": "text/x-python",
   "name": "python",
   "nbconvert_exporter": "python",
   "pygments_lexer": "ipython3",
   "version": "3.7.11"
  },
  "mimetype": "text/x-python",
  "name": "python",
  "npconvert_exporter": "python",
  "pygments_lexer": "ipython3",
  "version": 3
 },
 "nbformat": 4,
 "nbformat_minor": 4
}
